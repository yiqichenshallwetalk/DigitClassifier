{
 "cells": [
  {
   "cell_type": "markdown",
   "metadata": {},
   "source": [
    "# Identification of Handwritten Digits\n",
    "\n",
    "Identification of handwritten digits are among the first important applications for\n",
    "machine learning techniques. The MNIST database (Modified National Institute of Standards and\n",
    "Technology database) is a famous database of handwritten digits which is commonly used in training\n",
    "and evaluating machine learning models. In this notebook, five different types of machine learning\n",
    "models (logistic regression, linear support vector machine, random forest, deep neural networks and\n",
    "convolutional neural networks) were trained on the MNIST data. A grid search for hyperparameters\n",
    "was applied to all the models to get the best performances af these models. They were then evaluated\n",
    "in the MNIST test dataset as well as a data set from the USPS database. At last, all five models were\n",
    "combined by both a direct hard voting and boosting hard voting approaches as an effort to achieve a\n",
    "better performance. The objective of this project is to explore the strength and weakness of different\n",
    "machine learning models."
   ]
  },
  {
   "cell_type": "code",
   "execution_count": 1,
   "metadata": {},
   "outputs": [
    {
     "name": "stderr",
     "output_type": "stream",
     "text": [
      "C:\\Users\\yiqichen\\UB\\Anaconda3\\lib\\site-packages\\h5py\\__init__.py:34: FutureWarning: Conversion of the second argument of issubdtype from `float` to `np.floating` is deprecated. In future, it will be treated as `np.float64 == np.dtype(float).type`.\n",
      "  from ._conv import register_converters as _register_converters\n",
      "Using TensorFlow backend.\n"
     ]
    }
   ],
   "source": [
    "# import necessary python modules\n",
    "import numpy as np\n",
    "import random\n",
    "from PIL import Image\n",
    "import matplotlib.pyplot as plt\n",
    "import pandas as pd\n",
    "from os import listdir\n",
    "from sklearn.metrics import confusion_matrix, accuracy_score\n",
    "from sklearn.svm import SVC\n",
    "from sklearn.ensemble import RandomForestClassifier\n",
    "from keras.utils import np_utils\n",
    "from keras.models import Sequential\n",
    "from keras.layers import Dense, Dropout, Activation, Flatten, Conv2D, MaxPool2D, BatchNormalization\n",
    "from keras.callbacks import EarlyStopping, TensorBoard\n",
    "import pickle\n",
    "import gzip"
   ]
  },
  {
   "cell_type": "markdown",
   "metadata": {},
   "source": [
    "## Define the logistic regression model class"
   ]
  },
  {
   "cell_type": "code",
   "execution_count": 2,
   "metadata": {
    "collapsed": true
   },
   "outputs": [],
   "source": [
    "class logistic_regression:\n",
    "    def __init__(self, lamb, lr, epoch):\n",
    "        \"\"\"lamb, lr: regularization term and learning rate, respectively.\n",
    "        epoch: number of epochs ro run.\"\"\"\n",
    "        \n",
    "        self.lamb = lamb\n",
    "        self.lr = lr\n",
    "        self.epoch = epoch\n",
    "        \n",
    "    def softmax(self, z):\n",
    "        \"\"\" The logistic softmax function.\"\"\"\n",
    "\n",
    "        return np.exp(z)/sum(np.exp(z))        \n",
    "    \n",
    "    def train(self, x_train, y_train, silent):\n",
    "        \"\"\" This function performs the stochastic gradient descent solution for weight w on logistic regression.\n",
    "        Inputs:\n",
    "        x_train: Training data.\n",
    "        y_train: Trainig label.\n",
    "        silent: whether to output the training progress.\"\"\"\n",
    "\n",
    "        w = np.random.uniform(low=0.0, high=1.0, size=(y_train.shape[1], x_train.shape[1]))\n",
    "        for j in range(self.epoch):\n",
    "            sum_error = 0\n",
    "            rand_index = np.random.permutation(list(range(y_train.shape[0])))\n",
    "            for i in rand_index:        \n",
    "                E_del = -np.outer((y_train[i]-self.softmax(w.dot(x_train[i].T))),x_train[i].T)+self.lamb*w\n",
    "                sum_error += np.sum(E_del**2) / y_train.shape[0]\n",
    "                w = w - self.lr*E_del\n",
    "            if not silent:\n",
    "                print('>epoch={}, lrate={}, error={}'.format(j+1, self.lr, sum_error))\n",
    "\n",
    "        return w  \n",
    "\n",
    "    def EMS(self, weight, x_input, y_input, label_input):\n",
    "        \"\"\" This function returns the EMS for categorical cross entropy and accuracy for logistic regression.\n",
    "        weight: the weight matrix for logistic regression.\n",
    "        x_input: the input data matrix.\n",
    "        y_input: the traget matrix.\n",
    "        label_input: the label vector.\"\"\"\n",
    "\n",
    "        y_pred = self.softmax(weight.dot(x_input.T)).T\n",
    "        entropy = 0\n",
    "        for i in range(len(label_input)):\n",
    "            entropy += -np.dot(y_input[i],np.log(y_pred[i]))\n",
    "        entropy = np.sqrt(2*(entropy+np.sqrt(np.sum(weight**2))*self.lamb) / len(label_input))\n",
    "        count = 0 \n",
    "        for i in range(len(label_input)):\n",
    "            if np.argmax(y_pred[i]) == label_input[i]:\n",
    "                count += 1\n",
    "        return entropy, count/len(label_input) \n",
    "    \n",
    "    def predict(self, weight, x_input):\n",
    "        return self.softmax(weight.dot(x_input.T)).T"
   ]
  },
  {
   "cell_type": "markdown",
   "metadata": {},
   "source": [
    "## Define a function to perform the grid search for logistic regression model."
   ]
  },
  {
   "cell_type": "code",
   "execution_count": 3,
   "metadata": {
    "collapsed": true
   },
   "outputs": [],
   "source": [
    "def select_params_logistic(lamb_list, lr_list, x_train, y_train, label_train, x_val, y_val, label_val, epoch):\n",
    "    \"\"\" This function compares model performances from different parameters based on the validation accuracy for logistic regression.\n",
    "    lamb_list: list of regularization factors to search.\n",
    "    lr_list: list of learning rates to search.\n",
    "    x_train, y_train, label_train: training data, training traget matrix and training labels. \n",
    "    x_val,y_val,label_val: validation data, validation target matrix and validation labels.\n",
    "    epoch: number of epochs to run.\"\"\"\n",
    "    \n",
    "    max_acc=0\n",
    "    lamb_best = lamb_list[0]\n",
    "    lr_best = lr_list[0]\n",
    "    acc_all = np.zeros((lr_list.shape[0],lamb_list.shape[0]))\n",
    "    for i in range(len(lr_list)):\n",
    "        for j in range(len(lamb_list)):\n",
    "            logreg = logistic_regression(lamb_list[j], lr_list[i], epoch)\n",
    "            w = logreg.train(x_train, y_train, silent=True)\n",
    "            E_val,acc_val = logreg.EMS(w, x_val, y_val, label_val)\n",
    "            acc_all[i,j] = acc_val\n",
    "            if acc_val > max_acc:\n",
    "                max_acc = acc_val\n",
    "                lamb_best = lamb_list[j]\n",
    "                lr_best = lr_list[i]\n",
    "    return lamb_best, lr_best, acc_all  \n"
   ]
  },
  {
   "cell_type": "markdown",
   "metadata": {},
   "source": [
    "## Define functions to construct DNN models and searching for the best parameters"
   ]
  },
  {
   "cell_type": "code",
   "execution_count": 5,
   "metadata": {
    "collapsed": true
   },
   "outputs": [],
   "source": [
    "def get_dnn_model(drop_out,nodes):\n",
    "    \"\"\"\" This function returns a two layer deep neural networks model.\n",
    "    drop_out: Dropout rate.\n",
    "    nodes: number of nodes in hidden layers.\"\"\"\n",
    "    \n",
    "    first_dense_layer_nodes = nodes\n",
    "    second_dense_layer_nodes = nodes\n",
    "    \n",
    "    model = Sequential()\n",
    "    model.add(Dense(first_dense_layer_nodes, input_dim=784))\n",
    "    model.add(Activation('relu'))\n",
    "    model.add(Dropout(drop_out))\n",
    "\n",
    "    model.add(Dense(second_dense_layer_nodes))\n",
    "    model.add(Activation('relu'))\n",
    "    model.add(Dropout(drop_out))\n",
    "\n",
    "    model.add(Dense(10))\n",
    "    model.add(Activation('softmax'))        \n",
    "\n",
    "    model.compile(optimizer='adam',\n",
    "                  loss='categorical_crossentropy',\n",
    "                  metrics=['accuracy'])\n",
    "    return model   \n",
    "\n",
    "def get_best_params_dnn(x_train,y_train,x_val,y_val,nodes_list,do_list):\n",
    "    \"\"\" This function searches for the best combination of the two hyperparameters in cnn \n",
    "    x_train, y_train: training data and training target matrix.\n",
    "    x_val, y_val: validation data and validation target matrix.\n",
    "    nodes_list: number of nodes in hidden layers to search from.\n",
    "    do_list: dropout rates to search from.\"\"\"\n",
    "    \n",
    "    # Specify some key parameters\n",
    "    num_epochs = 100\n",
    "    model_batch_size = 100\n",
    "    tb_batch_size = 32\n",
    "    early_patience = 20\n",
    "    \n",
    "    tensorboard_cb   = TensorBoard(log_dir='logs', batch_size= tb_batch_size, write_graph= True)\n",
    "    earlystopping_cb = EarlyStopping(monitor='val_loss', verbose=1, patience=early_patience, mode='min')\n",
    "    \n",
    "    # First find the best number of nodes        \n",
    "    val_acc_nodes = []\n",
    "    for nodes in nodes_list:\n",
    "        model = get_dnn_model(do_list[2],nodes)\n",
    "        \n",
    "        history = model.fit(x_train,\n",
    "                            y_train,\n",
    "                            validation_data=(x_val, y_val),\n",
    "                            epochs=num_epochs,\n",
    "                            batch_size=model_batch_size,\n",
    "                            callbacks = [tensorboard_cb,earlystopping_cb],\n",
    "                            verbose=0)\n",
    "        print('nodes {} is tested.'.format(nodes))\n",
    "        del model\n",
    "        df = pd.DataFrame(history.history)\n",
    "        val_acc_nodes.append(np.max(df['val_acc']))\n",
    "    index = np.argmax(val_acc_nodes)\n",
    "    nodes_best = nodes_list[index]\n",
    "    print('Best number of nodes for this model is {}'.format(nodes_best))\n",
    "    \n",
    "    #Now choose the best dropout rate.\n",
    "    val_acc_do = []\n",
    "    for drop_out in do_list:\n",
    "        model = get_dnn_model(drop_out,nodes_best)    \n",
    "        \n",
    "        history = model.fit(x_train,\n",
    "                            y_train,\n",
    "                            validation_data=(x_val, y_val),\n",
    "                            epochs=num_epochs,\n",
    "                            batch_size=model_batch_size,\n",
    "                            callbacks = [tensorboard_cb,earlystopping_cb],\n",
    "                            verbose=0)\n",
    "        print('Dropout rate {} is tested.'.format(drop_out))\n",
    "        del model\n",
    "        df = pd.DataFrame(history.history)\n",
    "        val_acc_do.append(np.max(df['val_acc']))\n",
    "    index = np.argmax(val_acc_do)\n",
    "    do_best = do_list[index]\n",
    "    print('Best drop out for this model is {}'.format(do_best))\n",
    "      \n",
    "    \n",
    "    return do_best, nodes_best,  val_acc_nodes, val_acc_do \n",
    "    \n",
    "def accuracy_metrics(model,x_input,y_input):\n",
    "    \"\"\" This function computes accuracies from machine learning model prediction.\n",
    "    model: the model to make predictions.\n",
    "    x_input: the test data.\n",
    "    y_input: the test labels.\"\"\"\n",
    "    y = model.predict(x_input)\n",
    "    y_pred = [np.argmax(a) for a in y]\n",
    "    from sklearn.metrics import accuracy_score\n",
    "    acc = accuracy_score(y_input,y_pred)\n",
    "    return acc    "
   ]
  },
  {
   "cell_type": "markdown",
   "metadata": {},
   "source": [
    "## Define functions to construct CNN models and searching for the best parameters"
   ]
  },
  {
   "cell_type": "code",
   "execution_count": 4,
   "metadata": {
    "collapsed": true
   },
   "outputs": [],
   "source": [
    "def get_cnn_model(filters,drop_out):\n",
    "    \"\"\"\" This function returns a convolutional neural networks model which has one convolutional layer and one standard NN layer.\n",
    "    filters: Number of filters.\n",
    "    drop_out: Dropout rate.\"\"\"\n",
    "    \n",
    "    model = Sequential()\n",
    "    \n",
    "    model.add(Conv2D(filters = filters, kernel_size=(3,3), activation='relu',\n",
    "                    input_shape=(28,28,1)))\n",
    "    model.add(BatchNormalization())  #Can make training faster\n",
    "    model.add(Conv2D(filters = filters, kernel_size=(3,3), activation='relu'))\n",
    "    model.add(BatchNormalization())\n",
    "    model.add(MaxPool2D(strides=(2,2)))\n",
    "    model.add(Dropout(drop_out)) #prevent overfitting\n",
    "    \n",
    "    model.add(Flatten()) #Compress output into one vector\n",
    "    model.add(Dense(512, activation='relu')) #First hidden layer in NN\n",
    "    model.add(Dropout(drop_out))\n",
    "    model.add(Dense(10, activation='softmax')) #final output\n",
    "    model.compile(optimizer='adam', loss='categorical_crossentropy', metrics=['accuracy'])\n",
    "    \n",
    "    return model\n",
    "\n",
    "def get_best_params_cnn(x_train,y_train,x_val,y_val,filter_list,do_list):\n",
    "    \"\"\" This function searches for the best combination of the two hyperparameters in cnn \n",
    "    filter_list: number of filters to search from.\n",
    "    do_list: dropout rates to search from.\"\"\"\n",
    "    \n",
    "    # Specify key parameters\n",
    "    num_epochs = 5\n",
    "    model_batch_size = 200\n",
    "    \n",
    "    # First find the best number of filters        \n",
    "    val_acc_filter = []\n",
    "    for fil in filter_list:\n",
    "        model = get_cnn_model(fil,do_list[2])\n",
    "        \n",
    "        history = model.fit(x_train,\n",
    "                            y_train,\n",
    "                            validation_data=(x_val, y_val),\n",
    "                            epochs=num_epochs,\n",
    "                            batch_size=model_batch_size,\n",
    "                            verbose=1)\n",
    "        print('Number of filter {} is tested.'.format(fil))\n",
    "        del model\n",
    "        df = pd.DataFrame(history.history)\n",
    "        val_acc_filter.append(np.max(df['val_acc']))\n",
    "    index = np.argmax(val_acc_filter)\n",
    "    filter_best = filter_list[index]\n",
    "    print('Best number of filter for this model is {}'.format(filter_best))\n",
    "    \n",
    "    #Now choose the best dropout rate.\n",
    "    val_acc_do = []\n",
    "    for drop_out in do_list:\n",
    "        model = get_cnn_model(filter_list[2],drop_out)    \n",
    "        \n",
    "        history = model.fit(x_train,\n",
    "                            y_train,\n",
    "                            validation_data=(x_val, y_val),\n",
    "                            epochs=num_epochs,\n",
    "                            batch_size=model_batch_size,\n",
    "                            verbose=1)\n",
    "        print('Dropout rate {} is tested.'.format(drop_out))\n",
    "        del model\n",
    "        df = pd.DataFrame(history.history)\n",
    "        val_acc_do.append(np.max(df['val_acc']))\n",
    "    index = np.argmax(val_acc_do)\n",
    "    do_best = do_list[index]\n",
    "    print('Best drop out for this model is {}'.format(do_best))\n",
    "    \n",
    "    return filter_best, do_best, val_acc_filter, val_acc_do "
   ]
  },
  {
   "cell_type": "markdown",
   "metadata": {},
   "source": [
    "## Read in datasets"
   ]
  },
  {
   "cell_type": "code",
   "execution_count": 6,
   "metadata": {
    "collapsed": true
   },
   "outputs": [],
   "source": [
    "# Read USPS dataset\n",
    "x_usps = []\n",
    "label_usps = []\n",
    "for j in range(10):\n",
    "    train_files = [f for f in listdir('USPSdata/Numerals/'+str(j)+'/') if 'png' in f]\n",
    "    for f in train_files:\n",
    "        img = Image.open('USPSdata/Numerals/'+str(j)+'/'+f).convert('L').resize((28,28))\n",
    "        arr = list(img.getdata())\n",
    "        x_usps.append(arr)\n",
    "        label_usps.append(j)\n",
    "x_usps = np.array(x_usps)\n",
    "label_usps = np.array(label_usps)\n",
    "\n",
    "# Shuffle the dataset\n",
    "indices = np.random.permutation(x_usps.shape[0])\n",
    "x_usps_test = x_usps[indices,:]\n",
    "label_usps_test = label_usps[indices]\n",
    "# Normalize the dataset\n",
    "x_usps_test = 1.0-x_usps_test/255.0\n",
    "\n",
    "# Read MNIST data\n",
    "filename = 'mnist.pkl.gz'\n",
    "f = gzip.open(filename, 'rb')\n",
    "training_data, validation_data, test_data = pickle.load(f, encoding='latin1')\n",
    "f.close()\n",
    "x_train, x_val, x_test = training_data[0], validation_data[0], test_data[0]\n",
    "label_train, label_val, label_test = training_data[1], validation_data[1], test_data[1]\n",
    "\n",
    "# One hot encoding for all the labels\n",
    "y_train = np_utils.to_categorical(label_train).astype(np.float64)\n",
    "y_val = np_utils.to_categorical(label_val).astype(np.float64)\n",
    "y_test = np_utils.to_categorical(label_test).astype(np.float64)\n",
    "y_usps_test = np_utils.to_categorical(label_usps_test).astype(np.float64)"
   ]
  },
  {
   "cell_type": "markdown",
   "metadata": {},
   "source": [
    "# Model Training and Predicting"
   ]
  },
  {
   "cell_type": "markdown",
   "metadata": {},
   "source": [
    "Five machine learning models are used to train the datasets. A grid search technique was applied in all models to find the optimum parameters. Because of the large size of the training set, it takes a very long time to perform the grid search. So the process was run once and then committed out. The best parameters were then hrad coded based on the grid search results. For the Gaussian support vector machines models, one single run takes 4-5 hrs, so it is impossible to run the grid search on them."
   ]
  },
  {
   "cell_type": "markdown",
   "metadata": {
    "collapsed": true
   },
   "source": [
    "## Logistic Regression"
   ]
  },
  {
   "cell_type": "code",
   "execution_count": 10,
   "metadata": {},
   "outputs": [
    {
     "data": {
      "image/png": "[encoded data removed]",
      "text/plain": [
       "<matplotlib.figure.Figure at 0x1cc21f63978>"
      ]
     },
     "metadata": {},
     "output_type": "display_data"
    },
    {
     "data": {
      "image/png": "[encoded data removed]",
      "text/plain": [
       "<matplotlib.figure.Figure at 0x1cc41a8e438>"
      ]
     },
     "metadata": {},
     "output_type": "display_data"
    }
   ],
   "source": [
    "# Finding the best hyperparameters for logistic regression\n",
    "lamb_list = [0.005, 0.01, 0.04, 0.07]\n",
    "lr_list = [0.0005, 0.001, 0.005, 0.01] \n",
    "lamb_best, lr_best, Eval_all = select_params_logistic(np.array(lamb_list),np.array(lr_list),x_train,y_train,label_train,x_val,y_val,label_val,20)\n",
    "lr_index = lr_list.index(lr_best)\n",
    "lamb_index = lamb_list.index(lamb_best)\n",
    "plt.figure()\n",
    "plt.plot(lamb_list, Eval_all[lr_index,:],'o')\n",
    "plt.xlabel(r'$\\lambda$', fontsize=20)\n",
    "plt.ylabel('Validation Accuracy', fontsize=20)\n",
    "plt.title(r'Logistic Regression', fontsize=20)\n",
    "plt.figure()\n",
    "plt.plot(lr_list, Eval_all[:,lamb_index],'o')\n",
    "plt.xlabel('Learning Rate', fontsize=20)\n",
    "plt.ylabel('Validation Accuracy', fontsize=20)\n",
    "plt.title(r'Logistic Regression ', fontsize=20)\n",
    "plt.show()"
   ]
  },
  {
   "cell_type": "code",
   "execution_count": 7,
   "metadata": {},
   "outputs": [
    {
     "name": "stdout",
     "output_type": "stream",
     "text": [
      "----------------------------------------------------\n",
      "-------Logistic Regression Results-------\n",
      "----------------------------------------------------\n",
      "Best parameters: \n",
      "Lambda = 0.005 \n",
      "rate = 0.0005\n",
      "EMS Training: 0.854288798201265, accuracy Training: 0.90686\n",
      "EMS Validation: 0.8236855110008077, accuracy Validation: 0.9144\n",
      "EMS Testing: 0.8327609059090808, accuracy Testing: 0.9119\n",
      "EMS USPS: 2.1661911857535077, accuracy USPS: 0.3642182109105455\n"
     ]
    }
   ],
   "source": [
    "#lamb_best = 0.005\n",
    "#lr_best = 0.0005\n",
    "\n",
    "# Construct the optimum logistic regression model\n",
    "logreg = logistic_regression(lamb_best, lr_best, 20)\n",
    "w = logreg.train(x_train, y_train, silent=True)\n",
    "E_train, acc_train = logreg.EMS(w, x_train, y_train, label_train)\n",
    "E_val, acc_val = logreg.EMS(w, x_val, y_val, label_val)\n",
    "E_test, acc_test = logreg.EMS(w, x_test, y_test, label_test)\n",
    "E_usps_test, acc_usps_test = logreg.EMS(w, x_usps_test, y_usps_test, label_usps_test)\n",
    "\n",
    "print ('----------------------------------------------------')\n",
    "print (\"-------Logistic Regression Results-------\")\n",
    "print ('----------------------------------------------------')\n",
    "print (\"Best parameters: \\nLambda = {} \\nrate = {}\".format(lamb_best,lr_best))\n",
    "print (\"EMS Training: {}, accuracy Training: {}\".format(E_train,acc_train))\n",
    "print (\"EMS Validation: {}, accuracy Validation: {}\".format(E_val,acc_val))\n",
    "print (\"EMS Testing: {}, accuracy Testing: {}\".format(E_test,acc_test))    \n",
    "print (\"EMS USPS: {}, accuracy USPS: {}\".format(E_usps_test,acc_usps_test))  \n"
   ]
  },
  {
   "cell_type": "code",
   "execution_count": 11,
   "metadata": {},
   "outputs": [
    {
     "name": "stdout",
     "output_type": "stream",
     "text": [
      "\n",
      "\n",
      "Confusion matrix by logistic regression model on MNIST test set:\n",
      "[[ 961    0    2    1    1    1    9    1    4    0]\n",
      " [   0 1107    2    3    1    1    4    2   15    0]\n",
      " [  11    6  900   13   16    1   15   18   43    9]\n",
      " [   4    0   23  903    0   30    4   14   21   11]\n",
      " [   1    6    4    1  910    0    9    2    8   41]\n",
      " [  11    5    4   41   10  747   15   10   40    9]\n",
      " [  13    3    5    1   11   12  908    1    4    0]\n",
      " [   3   17   25    5    8    0    0  932    3   35]\n",
      " [   7    9    8   22    9   26   13   14  852   14]\n",
      " [  11    7    4   11   37    9    0   24    7  899]]\n",
      "Confusion matrix by logistic regression model on USPS test set:\n",
      "[[ 618    2  256   52  228  128   73   50  162  431]\n",
      " [ 182  404   13  309  361   59   37  303  302   30]\n",
      " [ 201   23 1184  161   72   78   86   78   86   30]\n",
      " [  90    3  138 1263   22  265   16   74   85   44]\n",
      " [  53   81   45   51 1021   77   28  152  302  190]\n",
      " [ 160   25  137  181   49 1120  118   77   96   37]\n",
      " [ 294   14  384  103  122  271  723    8   54   27]\n",
      " [ 182  204  255  445   78   97   26  339  313   61]\n",
      " [ 220   35  139  214  117  609  113   51  414   88]\n",
      " [  36  162  141  428  151   72   14  419  379  198]]\n"
     ]
    }
   ],
   "source": [
    "# Calculate confusion matrices for both MNIST and USPS datasets\n",
    "y_pred_log = logreg.predict(w, x_test)\n",
    "label_pred_log = [np.argmax(y_pred_log[i]) for i in range(len(y_pred_log))]\n",
    "cf_log = confusion_matrix(label_test, label_pred_log)\n",
    "y_usps_pred_log = logreg.predict(w, x_usps_test)\n",
    "label_usps_pred_log = [np.argmax(y_usps_pred_log[i]) for i in range(len(y_usps_pred_log))]\n",
    "cf_usps_log = confusion_matrix(label_usps_test, label_usps_pred_log)\n",
    "print ('\\n')\n",
    "print ('Confusion matrix by logistic regression model on MNIST test set:')\n",
    "print (cf_log)\n",
    "print ('Confusion matrix by logistic regression model on USPS test set:')\n",
    "print (cf_usps_log)    "
   ]
  },
  {
   "cell_type": "markdown",
   "metadata": {},
   "source": [
    "## Support Vectors Machines"
   ]
  },
  {
   "cell_type": "code",
   "execution_count": 12,
   "metadata": {},
   "outputs": [
    {
     "data": {
      "image/png": "[encoded data removed]",
      "text/plain": [
       "<matplotlib.figure.Figure at 0x1cc419dc278>"
      ]
     },
     "metadata": {},
     "output_type": "display_data"
    }
   ],
   "source": [
    "# Finding the best regularization factor for linear vector machines\n",
    "C_factors = [1,2,5,10]\n",
    "# Linear Kernel\n",
    "#Find the best regularization factor to use  \n",
    "acc_val_linear_all = []\n",
    "for C in C_factors:\n",
    "   svc_linear = SVC(kernel='linear', C=C)\n",
    "   svc_linear.fit(x_train,label_train)\n",
    "   acc_val_svc_linear = svc_linear.score(x_val,label_val)\n",
    "   acc_val_linear_all.append(acc_val_svc_linear)\n",
    "plt.figure()\n",
    "plt.plot(C_factors, acc_val_linear_all, 'o')\n",
    "plt.xlabel('Regularization Factor', fontsize=20)\n",
    "plt.ylabel('Validation Accuracy', fontsize=20)\n",
    "plt.title(r'Linear SVC', fontsize=20)\n",
    "plt.show()\n",
    "\n",
    "C_best_linear = C_factors[np.argmax(acc_val_linear_all)]    "
   ]
  },
  {
   "cell_type": "code",
   "execution_count": 15,
   "metadata": {},
   "outputs": [
    {
     "name": "stdout",
     "output_type": "stream",
     "text": [
      "\n",
      "\n",
      "----------------------------------------------------\n",
      "-------Support Vector Machine Results-------\n",
      "----------------------------------------------------\n",
      "Linear Kernel\n",
      "Best parameter: regularization factor = 1\n",
      "accuracy Training: 0.97246\n",
      "accuracy Validation: 0.9423\n",
      "accuracy Testing: 0.939\n",
      "accuracy USPS: 0.3272163608180409\n"
     ]
    }
   ],
   "source": [
    "#C_best_linear = 1\n",
    "\n",
    "svc_linear = SVC(kernel='linear', C=C_best_linear)\n",
    "svc_linear.fit(x_train,label_train)\n",
    "acc_train_svc_linear, acc_val_svc_linear, acc_test_svc_linear = svc_linear.score(x_train,label_train), svc_linear.score(x_val,label_val), svc_linear.score(x_test,label_test)\n",
    "acc_usps_test_svc_linear = svc_linear.score(x_usps_test, label_usps_test)\n",
    "#y_pred_svc = svc.predict(x_test)\n",
    "\n",
    "print ('\\n')\n",
    "print ('----------------------------------------------------')\n",
    "print (\"-------Support Vector Machine Results-------\")\n",
    "print ('----------------------------------------------------')\n",
    "print ('Linear Kernel')\n",
    "print (\"Best parameter: regularization factor = {}\".format(C_best_linear))\n",
    "print (\"accuracy Training: {}\".format(acc_train_svc_linear))\n",
    "print (\"accuracy Validation: {}\".format(acc_val_svc_linear))\n",
    "print (\"accuracy Testing: {}\".format(acc_test_svc_linear))    \n",
    "print (\"accuracy USPS: {}\".format(acc_usps_test_svc_linear)) "
   ]
  },
  {
   "cell_type": "code",
   "execution_count": 16,
   "metadata": {},
   "outputs": [
    {
     "name": "stdout",
     "output_type": "stream",
     "text": [
      "\n",
      "\n",
      "Confusion matrix by linear svc model on MNIST test set:\n",
      "[[ 959    0    5    2    2    4    7    0    1    0]\n",
      " [   0 1121    3    3    0    1    2    1    4    0]\n",
      " [   6    8  968    9    3    2   11   10   13    2]\n",
      " [   5    2   17  944    4   13    1    8   13    3]\n",
      " [   2    1   10    1  943    0    4    2    2   17]\n",
      " [  13    4    2   39    5  792    9    1   22    5]\n",
      " [  10    3   11    1    5   14  911    2    1    0]\n",
      " [   1    8   20   10    6    1    0  961    3   18]\n",
      " [   8    4    9   25   11   27    6    5  871    8]\n",
      " [   7    6    2   13   32    4    0   18    7  920]]\n",
      "Confusion matrix by linear svc model on USPS test set:\n",
      "[[ 483    3  320   70  254  298   58  125   14  375]\n",
      " [  60  475  136  300  342  167   22  413   62   23]\n",
      " [ 176   91 1163  126   55  209   60   62   37   20]\n",
      " [  70   59  294  922   14  509    5   54   54   19]\n",
      " [  26   25  136   76  884  194    9  463   84  103]\n",
      " [  60   17  166  250   85 1203   36   50  104   29]\n",
      " [ 168   23  730   50  154  312  539   16    4    4]\n",
      " [  26   85  190  664   60  310   13  526   89   37]\n",
      " [ 104   21  272  391  136  736   78   58  185   19]\n",
      " [  15   50  163  513  165  108    7  623  192  164]]\n"
     ]
    }
   ],
   "source": [
    "# Calculate confusion matrices for both MNIST and USPS datasets\n",
    "label_pred_svc = svc_linear.predict(x_test)\n",
    "cf_svc = confusion_matrix(label_test, label_pred_svc)\n",
    "label_usps_pred_svc = svc_linear.predict(x_usps_test)\n",
    "cf_usps_svc = confusion_matrix(label_usps_test, label_usps_pred_svc)\n",
    "print ('\\n')\n",
    "print ('Confusion matrix by linear svc model on MNIST test set:')\n",
    "print (cf_svc)\n",
    "print ('Confusion matrix by linear svc model on USPS test set:')\n",
    "print (cf_usps_svc)    "
   ]
  },
  {
   "cell_type": "code",
   "execution_count": 17,
   "metadata": {
    "collapsed": true
   },
   "outputs": [],
   "source": [
    "##     Radial Basis Functions Kernel with gamma = 1\n",
    "#    svc_rbf1 = SVC(kernel='rbf', gamma=1)\n",
    "#    svc_rbf1.fit(x_train,label_train)\n",
    "#    acc_train_svc_rbf1, acc_val_svc_rbf1, acc_test_svc_rbf1 = svc_rbf1.score(x_train,label_train), svc_rbf1.score(x_val,label_val), svc_rbf1.score(x_test,label_test)\n",
    "#    acc_usps_test_svc_rbf1 = svc_rbf1.score(x_usps_test, label_usps_test)    \n",
    "#\n",
    "#    print ('\\n')    \n",
    "#    print ('----------------------------------------------------')    \n",
    "#    print ('Radial Basis Function Kernel')\n",
    "#    print ('gamma=1')\n",
    "#    print (\"accuracy Training: {}\".format(acc_train_svc_rbf1))\n",
    "#    print (\"accuracy Validation: {}\".format(acc_val_svc_rbf1))\n",
    "#    print (\"accuracy Testing: {}\".format(acc_test_svc_rbf1))    \n",
    "#    print (\"accuracy USPS: {}\".format(acc_usps_test_svc_rbf1))\n",
    "#    label_pred_svc_rbf1 = svc_rbf1.predict(x_test)\n",
    "#    cf_svc_rbf1 = confusion_matrix(label_test, label_pred_svc_rbf1)\n",
    "#    label_usps_pred_svc_rbf1 = svc_rbf1.predict(x_usps_test)\n",
    "#    cf_usps_svc_rbf1 = confusion_matrix(label_usps_test, label_usps_pred_svc_rbf1)\n",
    "#    print ('\\n')\n",
    "#    print ('Confusion matrix by rbf svc model (gamma=1.0) on MNIST test set:')\n",
    "#    print (cf_svc_rbf1)\n",
    "#    print ('Confusion matrix by rbf svc model (gamma=1.0) on USPS test set:')\n",
    "#    print (cf_usps_svc_rbf1)"
   ]
  },
  {
   "cell_type": "code",
   "execution_count": 18,
   "metadata": {
    "collapsed": true
   },
   "outputs": [],
   "source": [
    "##     Radial Basis Functions Kernel with gamma = auto\n",
    "    \n",
    "#    svc_rbf2 = SVC(kernel='rbf', gamma='auto')\n",
    "#    svc_rbf2.fit(x_train,label_train)\n",
    "#    acc_train_svc_rbf2, acc_val_svc_rbf2, acc_test_svc_rbf2 = svc_rbf2.score(x_train,label_train), svc_rbf2.score(x_val,label_val), svc_rbf2.score(x_test,label_test)\n",
    "#    acc_usps_test_svc_rbf2 = svc_rbf2.score(x_usps_test, label_usps_test)   \n",
    "#   \n",
    "#    print ('gamma=auto')\n",
    "#    print (\"accuracy Training: {}\".format(acc_train_svc_rbf2))\n",
    "#    print (\"accuracy Validation: {}\".format(acc_val_svc_rbf2))\n",
    "#    print (\"accuracy Testing: {}\".format(acc_test_svc_rbf2))    \n",
    "#    print (\"accuracy USPS: {}\".format(acc_usps_test_svc_rbf2))\n",
    "#    label_pred_svc_rbf2 = svc_rbf2.predict(x_test)\n",
    "#    cf_svc_rbf2 = confusion_matrix(label_test, label_pred_svc_rbf2)\n",
    "#    label_usps_pred_svc_rbf2 = svc_rbf2.predict(x_usps_test)\n",
    "#    cf_usps_svc_rbf2 = confusion_matrix(label_usps_test, label_usps_pred_svc_rbf2)\n",
    "#    print ('\\n')\n",
    "#    print ('Confusion matrix by rbf svc model (gamma=auto) on MNIST test set:')\n",
    "#    print (cf_svc_rbf2)\n",
    "#    print ('Confusion matrix by rbf svc model (gamma=auto) on USPS test set:')\n",
    "#    print (cf_usps_svc_rbf2)"
   ]
  },
  {
   "cell_type": "markdown",
   "metadata": {},
   "source": [
    "## Random Forest"
   ]
  },
  {
   "cell_type": "code",
   "execution_count": 19,
   "metadata": {},
   "outputs": [
    {
     "data": {
      "image/png": "[encoded data removed]",
      "text/plain": [
       "<matplotlib.figure.Figure at 0x1cc419dc710>"
      ]
     },
     "metadata": {},
     "output_type": "display_data"
    }
   ],
   "source": [
    "# Find the best number of trees to use\n",
    "n_trees = [10,25,50,100,150,200]\n",
    "acc_val_all = []\n",
    "for n in n_trees:\n",
    "   rf = RandomForestClassifier(n_estimators=n)\n",
    "   rf.fit(x_train,label_train)\n",
    "   acc_val_rf = rf.score(x_val,label_val)    \n",
    "   acc_val_all.append(acc_val_rf)\n",
    "plt.figure()\n",
    "plt.plot(n_trees, acc_val_all,'o')\n",
    "plt.xlabel('Number of Trees', fontsize=20)\n",
    "plt.ylabel('Validation Accuracy', fontsize=20)\n",
    "plt.title(r'Random Forest', fontsize=20)\n",
    "plt.show()\n",
    "\n",
    "n_trees_best = n_trees[np.argmax(acc_val_all)]"
   ]
  },
  {
   "cell_type": "code",
   "execution_count": 20,
   "metadata": {},
   "outputs": [
    {
     "name": "stdout",
     "output_type": "stream",
     "text": [
      "\n",
      "\n",
      "----------------------------------------------------\n",
      "-------Random Forests Results-------\n",
      "----------------------------------------------------\n",
      "Best parameters: \n",
      "number of trees = 200\n",
      "accuracy Training: 1.0\n",
      "accuracy Validation: 0.973\n",
      "accuracy Testing: 0.9698\n",
      "accuracy USPS: 0.41217060853042653\n"
     ]
    }
   ],
   "source": [
    "n_trees_best = 200\n",
    "\n",
    "rf = RandomForestClassifier(n_estimators=n_trees_best)\n",
    "rf.fit(x_train,label_train)\n",
    "acc_train_rf, acc_val_rf, acc_test_rf = rf.score(x_train,label_train), rf.score(x_val,label_val), rf.score(x_test,label_test)\n",
    "acc_usps_test_rf = rf.score(x_usps_test, label_usps_test)\n",
    "#y_pred_svc = svc.predict(x_test)\n",
    "\n",
    "print ('\\n')\n",
    "print ('----------------------------------------------------')\n",
    "print (\"-------Random Forests Results-------\")\n",
    "print ('----------------------------------------------------')\n",
    "print (\"Best parameters: \\nnumber of trees = {}\".format(n_trees_best))\n",
    "print (\"accuracy Training: {}\".format(acc_train_rf))\n",
    "print (\"accuracy Validation: {}\".format(acc_val_rf))\n",
    "print (\"accuracy Testing: {}\".format(acc_test_rf))    \n",
    "print (\"accuracy USPS: {}\".format(acc_usps_test_rf)) "
   ]
  },
  {
   "cell_type": "code",
   "execution_count": 21,
   "metadata": {},
   "outputs": [
    {
     "name": "stdout",
     "output_type": "stream",
     "text": [
      "\n",
      "\n",
      "Confusion matrix by random forest model on MNIST test set:\n",
      "[[ 969    0    1    0    0    3    3    1    3    0]\n",
      " [   0 1124    2    3    1    1    3    0    1    0]\n",
      " [   6    0 1001    4    2    1    4    8    6    0]\n",
      " [   0    0   11  973    0    7    0    8    8    3]\n",
      " [   1    0    2    0  955    0    4    0    3   17]\n",
      " [   2    0    0   16    3  856    7    2    5    1]\n",
      " [   8    3    0    0    3    4  937    0    3    0]\n",
      " [   1    3   19    2    2    0    0  991    1    9]\n",
      " [   5    0    4    6    5    5    4    4  930   11]\n",
      " [   7    5    2    9   10    5    1    4    4  962]]\n",
      "Confusion matrix by random forest model on USPS test set:\n",
      "[[ 627   19  258   63  424  157   53  125    1  273]\n",
      " [   5  696   27   97   18  143   31  981    1    1]\n",
      " [  66   41 1263   65   55  208   13  283    3    2]\n",
      " [  36    9   76 1239   44  376    0  197    4   19]\n",
      " [  10  218   36   24 1075  188   10  391   19   29]\n",
      " [  67   39   76   66   22 1580   10  132    2    6]\n",
      " [ 288   58  238   25  103  383  765  123    5   12]\n",
      " [  15  335  372  227   27  271   34  710    3    6]\n",
      " [  45   50  134  221   94 1115   57   92  172   20]\n",
      " [  10  305  190  272  241  133   14  644   75  116]]\n"
     ]
    }
   ],
   "source": [
    "# Calculate confusion matrices for both MNIST and USPS datasets\n",
    "label_pred_rf = rf.predict(x_test)\n",
    "cf_rf = confusion_matrix(label_test, label_pred_rf)\n",
    "label_usps_pred_rf = rf.predict(x_usps_test)\n",
    "cf_usps_rf = confusion_matrix(label_usps_test, label_usps_pred_rf)\n",
    "print ('\\n')\n",
    "print ('Confusion matrix by random forest model on MNIST test set:')\n",
    "print (cf_rf)\n",
    "print ('Confusion matrix by random forest model on USPS test set:')\n",
    "print (cf_usps_rf)"
   ]
  },
  {
   "cell_type": "markdown",
   "metadata": {},
   "source": [
    "## Deep Neural Networks"
   ]
  },
  {
   "cell_type": "code",
   "execution_count": 23,
   "metadata": {},
   "outputs": [
    {
     "name": "stdout",
     "output_type": "stream",
     "text": [
      "Epoch 00033: early stopping\n",
      "nodes 128 is tested.\n",
      "Epoch 00033: early stopping\n",
      "nodes 256 is tested.\n",
      "Epoch 00027: early stopping\n",
      "nodes 512 is tested.\n",
      "Epoch 00027: early stopping\n",
      "nodes 1024 is tested.\n",
      "Best number of nodes for this model is 256\n",
      "Epoch 00030: early stopping\n",
      "Dropout rate 0.1 is tested.\n",
      "Epoch 00025: early stopping\n",
      "Dropout rate 0.2 is tested.\n",
      "Epoch 00032: early stopping\n",
      "Dropout rate 0.3 is tested.\n",
      "Epoch 00029: early stopping\n",
      "Dropout rate 0.4 is tested.\n",
      "Best drop out for this model is 0.4\n"
     ]
    },
    {
     "data": {
      "image/png": "[encoded data removed]",
      "text/plain": [
       "<matplotlib.figure.Figure at 0x1cc41c76860>"
      ]
     },
     "metadata": {},
     "output_type": "display_data"
    },
    {
     "data": {
      "image/png": "[encoded data removed]",
      "text/plain": [
       "<matplotlib.figure.Figure at 0x1cc66f7dcf8>"
      ]
     },
     "metadata": {},
     "output_type": "display_data"
    },
    {
     "data": {
      "image/png": "[encoded data removed]",
      "text/plain": [
       "<matplotlib.figure.Figure at 0x1cc66ea5198>"
      ]
     },
     "metadata": {},
     "output_type": "display_data"
    },
    {
     "data": {
      "image/png": "[encoded data removed]",
      "text/plain": [
       "<matplotlib.figure.Figure at 0x1cc739ef9b0>"
      ]
     },
     "metadata": {},
     "output_type": "display_data"
    }
   ],
   "source": [
    "# Find the best paramters for DNN\n",
    "nodes_list = [128,256,512,1024]\n",
    "do_list = [0.1,0.2,0.3,0.4]\n",
    "\n",
    "do_best, nodes_best, val_acc_nodes, val_acc_do = get_best_params_dnn(x_train,y_train,x_val,y_val,nodes_list,do_list)    \n",
    "\n",
    "plt.figure()\n",
    "plt.plot(nodes_list, val_acc_nodes, 'o')\n",
    "plt.xlabel('Number of Nodes in Hidden Layers', fontsize=15)\n",
    "plt.ylabel('Validation Accuracy', fontsize=15)\n",
    "plt.xticks(fontsize=15)\n",
    "plt.yticks(fontsize=15)\n",
    "plt.title('Deep Neural Networks')\n",
    "plt.figure()\n",
    "plt.plot(do_list, val_acc_do, 'o')\n",
    "plt.xlabel('Drop Out Rate', fontsize=15)\n",
    "plt.ylabel('Validation Accuracy', fontsize=15)\n",
    "plt.xticks(fontsize=15)\n",
    "plt.yticks(fontsize=15)\n",
    "plt.title('Deep Neural Networks')\n",
    "plt.show()"
   ]
  },
  {
   "cell_type": "code",
   "execution_count": 24,
   "metadata": {},
   "outputs": [
    {
     "name": "stdout",
     "output_type": "stream",
     "text": [
      "Train on 50000 samples, validate on 10000 samples\n",
      "Epoch 1/100\n",
      "50000/50000 [==============================] - 3s 59us/step - loss: 0.4090 - acc: 0.8747 - val_loss: 0.1387 - val_acc: 0.9604\n",
      "Epoch 2/100\n",
      "50000/50000 [==============================] - 3s 54us/step - loss: 0.1848 - acc: 0.9456 - val_loss: 0.1041 - val_acc: 0.9688\n",
      "Epoch 3/100\n",
      "50000/50000 [==============================] - 3s 53us/step - loss: 0.1426 - acc: 0.9565 - val_loss: 0.0890 - val_acc: 0.9734\n",
      "Epoch 4/100\n",
      "50000/50000 [==============================] - 3s 51us/step - loss: 0.1234 - acc: 0.9618 - val_loss: 0.0828 - val_acc: 0.9745\n",
      "Epoch 5/100\n",
      "50000/50000 [==============================] - 3s 52us/step - loss: 0.1032 - acc: 0.9687 - val_loss: 0.0761 - val_acc: 0.9766\n",
      "Epoch 6/100\n",
      "50000/50000 [==============================] - 3s 51us/step - loss: 0.0921 - acc: 0.9715 - val_loss: 0.0726 - val_acc: 0.9777\n",
      "Epoch 7/100\n",
      "50000/50000 [==============================] - 3s 52us/step - loss: 0.0855 - acc: 0.9735 - val_loss: 0.0738 - val_acc: 0.9780\n",
      "Epoch 8/100\n",
      "50000/50000 [==============================] - 3s 51us/step - loss: 0.0790 - acc: 0.9750 - val_loss: 0.0819 - val_acc: 0.9771\n",
      "Epoch 9/100\n",
      "50000/50000 [==============================] - 3s 52us/step - loss: 0.0739 - acc: 0.9765 - val_loss: 0.0753 - val_acc: 0.9778\n",
      "Epoch 10/100\n",
      "50000/50000 [==============================] - 3s 51us/step - loss: 0.0686 - acc: 0.9779 - val_loss: 0.0690 - val_acc: 0.9796\n",
      "Epoch 11/100\n",
      "50000/50000 [==============================] - 3s 52us/step - loss: 0.0632 - acc: 0.9794 - val_loss: 0.0759 - val_acc: 0.9800\n",
      "Epoch 12/100\n",
      "50000/50000 [==============================] - 3s 51us/step - loss: 0.0614 - acc: 0.9804 - val_loss: 0.0734 - val_acc: 0.9792\n",
      "Epoch 13/100\n",
      "50000/50000 [==============================] - 3s 52us/step - loss: 0.0601 - acc: 0.9803 - val_loss: 0.0728 - val_acc: 0.9805\n",
      "Epoch 14/100\n",
      "50000/50000 [==============================] - 3s 51us/step - loss: 0.0587 - acc: 0.9816 - val_loss: 0.0736 - val_acc: 0.9804\n",
      "Epoch 15/100\n",
      "50000/50000 [==============================] - 3s 52us/step - loss: 0.0519 - acc: 0.9824 - val_loss: 0.0712 - val_acc: 0.9812\n",
      "Epoch 16/100\n",
      "50000/50000 [==============================] - 3s 51us/step - loss: 0.0519 - acc: 0.9832 - val_loss: 0.0690 - val_acc: 0.9812\n",
      "Epoch 17/100\n",
      "50000/50000 [==============================] - 3s 52us/step - loss: 0.0463 - acc: 0.9844 - val_loss: 0.0738 - val_acc: 0.9796\n",
      "Epoch 18/100\n",
      "50000/50000 [==============================] - 3s 52us/step - loss: 0.0485 - acc: 0.9843 - val_loss: 0.0687 - val_acc: 0.9812\n",
      "Epoch 19/100\n",
      "50000/50000 [==============================] - 3s 53us/step - loss: 0.0484 - acc: 0.9847 - val_loss: 0.0749 - val_acc: 0.9796\n",
      "Epoch 20/100\n",
      "50000/50000 [==============================] - 3s 51us/step - loss: 0.0456 - acc: 0.9851 - val_loss: 0.0775 - val_acc: 0.9794\n",
      "Epoch 21/100\n",
      "50000/50000 [==============================] - 3s 51us/step - loss: 0.0432 - acc: 0.9855 - val_loss: 0.0736 - val_acc: 0.9824\n",
      "Epoch 22/100\n",
      "50000/50000 [==============================] - 3s 52us/step - loss: 0.0428 - acc: 0.9860 - val_loss: 0.0735 - val_acc: 0.9820\n",
      "Epoch 23/100\n",
      "50000/50000 [==============================] - 3s 51us/step - loss: 0.0402 - acc: 0.9868 - val_loss: 0.0698 - val_acc: 0.9822\n",
      "Epoch 24/100\n",
      "50000/50000 [==============================] - 3s 52us/step - loss: 0.0424 - acc: 0.9862 - val_loss: 0.0731 - val_acc: 0.9813\n",
      "Epoch 25/100\n",
      "50000/50000 [==============================] - 3s 51us/step - loss: 0.0384 - acc: 0.9875 - val_loss: 0.0757 - val_acc: 0.9800\n",
      "Epoch 26/100\n",
      "50000/50000 [==============================] - 3s 52us/step - loss: 0.0389 - acc: 0.9869 - val_loss: 0.0747 - val_acc: 0.9820\n",
      "Epoch 27/100\n",
      "50000/50000 [==============================] - 3s 51us/step - loss: 0.0363 - acc: 0.9883 - val_loss: 0.0764 - val_acc: 0.9807\n",
      "Epoch 28/100\n",
      "50000/50000 [==============================] - 3s 52us/step - loss: 0.0402 - acc: 0.9866 - val_loss: 0.0737 - val_acc: 0.9822\n",
      "Epoch 29/100\n",
      "50000/50000 [==============================] - 3s 51us/step - loss: 0.0361 - acc: 0.9883 - val_loss: 0.0741 - val_acc: 0.9812\n",
      "Epoch 30/100\n",
      "50000/50000 [==============================] - 3s 52us/step - loss: 0.0364 - acc: 0.9884 - val_loss: 0.0773 - val_acc: 0.9823\n",
      "Epoch 31/100\n",
      "50000/50000 [==============================] - 2s 49us/step - loss: 0.0348 - acc: 0.9884 - val_loss: 0.0761 - val_acc: 0.9819\n",
      "Epoch 32/100\n",
      "50000/50000 [==============================] - 2s 50us/step - loss: 0.0357 - acc: 0.9888 - val_loss: 0.0769 - val_acc: 0.9821\n",
      "Epoch 33/100\n",
      "50000/50000 [==============================] - 2s 50us/step - loss: 0.0333 - acc: 0.9889 - val_loss: 0.0760 - val_acc: 0.9824\n",
      "Epoch 34/100\n",
      "50000/50000 [==============================] - 2s 50us/step - loss: 0.0345 - acc: 0.9889 - val_loss: 0.0780 - val_acc: 0.9820\n",
      "Epoch 35/100\n",
      "50000/50000 [==============================] - 2s 49us/step - loss: 0.0349 - acc: 0.9891 - val_loss: 0.0740 - val_acc: 0.9836\n",
      "Epoch 36/100\n",
      "50000/50000 [==============================] - 2s 49us/step - loss: 0.0314 - acc: 0.9899 - val_loss: 0.0757 - val_acc: 0.9823\n",
      "Epoch 37/100\n",
      "50000/50000 [==============================] - 2s 49us/step - loss: 0.0310 - acc: 0.9903 - val_loss: 0.0765 - val_acc: 0.9838\n",
      "Epoch 38/100\n",
      "50000/50000 [==============================] - 2s 50us/step - loss: 0.0334 - acc: 0.9891 - val_loss: 0.0833 - val_acc: 0.9814\n",
      "Epoch 00038: early stopping\n",
      "\n",
      "\n",
      "----------------------------------------------------\n",
      "-------Deep Neural Networks Results-------\n",
      "----------------------------------------------------\n",
      "Best parameters: \n",
      "nodes = 256 \n",
      "dropout rate = 0.4\n",
      "accuracy Training: 0.99862\n",
      "accuracy Validation: 0.9814\n",
      "accuracy Testing: 0.9826\n",
      "accuracy USPS: 0.5370268513425671\n"
     ]
    }
   ],
   "source": [
    "#do_best = 0.3\n",
    "#nodes_best = 1024\n",
    "\n",
    "dnn_best = get_dnn_model(do_best, nodes_best)\n",
    "tensorboard_cb   = TensorBoard(log_dir='logs', batch_size= 32, write_graph= True)\n",
    "earlystopping_cb = EarlyStopping(monitor='val_loss', verbose=1, patience=20, mode='min')\n",
    "\n",
    "history = dnn_best.fit(x_train,\n",
    "                    y_train,\n",
    "                    validation_data=(x_val, y_val),\n",
    "                    epochs=100,\n",
    "                    batch_size=100,\n",
    "                    callbacks = [tensorboard_cb,earlystopping_cb],\n",
    "                    verbose=1)    \n",
    "df = pd.DataFrame(history.history)\n",
    "df.plot(subplots=True, grid=True, figsize=(10,15))\n",
    "plt.title('Deep Neural Networks Optimum Performance')\n",
    "\n",
    "acc_train_dnn, acc_val_dnn, acc_test_dnn = accuracy_metrics(dnn_best, x_train,label_train), accuracy_metrics(dnn_best, x_val,label_val), accuracy_metrics(dnn_best, x_test,label_test)\n",
    "acc_usps_test_dnn = accuracy_metrics(dnn_best, x_usps_test,label_usps_test)\n",
    "\n",
    "print ('\\n')\n",
    "print ('----------------------------------------------------')\n",
    "print (\"-------Deep Neural Networks Results-------\")\n",
    "print ('----------------------------------------------------')\n",
    "print (\"Best parameters: \\nnodes = {} \\ndropout rate = {}\".format(nodes_best,do_best))\n",
    "print (\"accuracy Training: {}\".format(acc_train_dnn))\n",
    "print (\"accuracy Validation: {}\".format(acc_val_dnn))\n",
    "print (\"accuracy Testing: {}\".format(acc_test_dnn))    \n",
    "print (\"accuracy USPS: {}\".format(acc_usps_test_dnn))"
   ]
  },
  {
   "cell_type": "code",
   "execution_count": 25,
   "metadata": {},
   "outputs": [
    {
     "name": "stdout",
     "output_type": "stream",
     "text": [
      "\n",
      "\n",
      "Confusion matrix by DNN model on MNIST test set:\n",
      "[[ 976    1    1    0    0    0    1    1    0    0]\n",
      " [   0 1123    2    2    0    3    2    0    3    0]\n",
      " [   2    2 1011    4    2    1    1    5    4    0]\n",
      " [   0    0    4  996    0    6    0    3    1    0]\n",
      " [   0    0    1    1  956    0    4    1    1   18]\n",
      " [   2    0    0   11    1  874    2    0    1    1]\n",
      " [   4    1    0    1    6    4  940    0    2    0]\n",
      " [   0    1    7    4    0    0    0 1014    0    2]\n",
      " [   4    1    1    6    1    5    1    5  946    4]\n",
      " [   1    2    0    1    3    7    0    3    2  990]]\n",
      "Confusion matrix by DNN model on USPS test set:\n",
      "[[ 690    7   86   66  237  103   72   37   63  639]\n",
      " [  57  765   33  118  512   39   34  298   85   59]\n",
      " [  72   27 1570   72   33   82   25   53   57    8]\n",
      " [   7   10  133 1503    6  286    7   21   17   10]\n",
      " [   8   72   20   24 1352   80   17  232  137   58]\n",
      " [  19    1   34  124   10 1670   26   30   63   23]\n",
      " [ 109   15  163   35   77  166 1373    6   42   14]\n",
      " [  18  150  289  402   52   63   24  837  148   17]\n",
      " [ 143   14   95  381   84  366  104   86  681   46]\n",
      " [   5  107   65  309  186   57   10  658  304  299]]\n"
     ]
    }
   ],
   "source": [
    "# Calculate confusion matrices for both MNIST and USPS datasets\n",
    "y_pred_dnn = dnn_best.predict(x_test)\n",
    "label_pred_dnn = [np.argmax(y_pred_dnn[i]) for i in range(len(y_pred_dnn))]\n",
    "cf_dnn = confusion_matrix(label_test, label_pred_dnn)\n",
    "y_usps_pred_dnn = dnn_best.predict(x_usps_test)\n",
    "label_usps_pred_dnn = [np.argmax(y_usps_pred_dnn[i]) for i in range(len(y_usps_pred_dnn))]\n",
    "cf_usps_dnn = confusion_matrix(label_usps_test, label_usps_pred_dnn)\n",
    "print ('\\n')\n",
    "print ('Confusion matrix by DNN model on MNIST test set:')\n",
    "print (cf_dnn)\n",
    "print ('Confusion matrix by DNN model on USPS test set:')\n",
    "print (cf_usps_dnn)    "
   ]
  },
  {
   "cell_type": "markdown",
   "metadata": {},
   "source": [
    "## Convolutional Neural Networks"
   ]
  },
  {
   "cell_type": "code",
   "execution_count": 26,
   "metadata": {
    "collapsed": true
   },
   "outputs": [],
   "source": [
    "# Reszie the x datasets\n",
    "x_train_cnn = x_train.reshape(-1, 28, 28, 1)\n",
    "x_val_cnn = x_val.reshape(-1,28,28,1)\n",
    "x_test_cnn = x_test.reshape(-1,28,28,1)\n",
    "x_usps_test_cnn = x_usps_test.reshape(-1,28,28,1)"
   ]
  },
  {
   "cell_type": "code",
   "execution_count": 28,
   "metadata": {},
   "outputs": [
    {
     "name": "stdout",
     "output_type": "stream",
     "text": [
      "Train on 50000 samples, validate on 10000 samples\n",
      "Epoch 1/5\n",
      "50000/50000 [==============================] - 755s 15ms/step - loss: 0.2741 - acc: 0.9179 - val_loss: 0.0743 - val_acc: 0.9773\n",
      "Epoch 2/5\n",
      "50000/50000 [==============================] - 748s 15ms/step - loss: 0.0961 - acc: 0.9700 - val_loss: 0.0496 - val_acc: 0.9848\n",
      "Epoch 3/5\n",
      "50000/50000 [==============================] - 753s 15ms/step - loss: 0.0654 - acc: 0.9787 - val_loss: 0.0468 - val_acc: 0.9854\n",
      "Epoch 4/5\n",
      "50000/50000 [==============================] - 752s 15ms/step - loss: 0.0532 - acc: 0.9829 - val_loss: 0.0417 - val_acc: 0.9883\n",
      "Epoch 5/5\n",
      "50000/50000 [==============================] - 754s 15ms/step - loss: 0.0423 - acc: 0.9865 - val_loss: 0.0369 - val_acc: 0.9889\n",
      "Number of filter 8 is tested.\n",
      "Train on 50000 samples, validate on 10000 samples\n",
      "Epoch 1/5\n",
      "50000/50000 [==============================] - 1294s 26ms/step - loss: 0.2437 - acc: 0.9338 - val_loss: 0.0648 - val_acc: 0.9807\n",
      "Epoch 2/5\n",
      "50000/50000 [==============================] - 1279s 26ms/step - loss: 0.0732 - acc: 0.9771 - val_loss: 0.0488 - val_acc: 0.9850\n",
      "Epoch 3/5\n",
      "50000/50000 [==============================] - 1283s 26ms/step - loss: 0.0455 - acc: 0.9856 - val_loss: 0.0465 - val_acc: 0.9866\n",
      "Epoch 4/5\n",
      "50000/50000 [==============================] - 1283s 26ms/step - loss: 0.0362 - acc: 0.9878 - val_loss: 0.0429 - val_acc: 0.9883\n",
      "Epoch 5/5\n",
      "50000/50000 [==============================] - 1283s 26ms/step - loss: 0.0289 - acc: 0.9902 - val_loss: 0.0488 - val_acc: 0.9867\n",
      "Number of filter 16 is tested.\n",
      "Train on 50000 samples, validate on 10000 samples\n",
      "Epoch 1/5\n",
      "50000/50000 [==============================] - 1304s 26ms/step - loss: 0.4292 - acc: 0.9235 - val_loss: 0.0646 - val_acc: 0.9797\n",
      "Epoch 2/5\n",
      "50000/50000 [==============================] - 1304s 26ms/step - loss: 0.0695 - acc: 0.9783 - val_loss: 0.0662 - val_acc: 0.9810\n",
      "Epoch 3/5\n",
      "50000/50000 [==============================] - 1308s 26ms/step - loss: 0.0460 - acc: 0.9857 - val_loss: 0.0430 - val_acc: 0.9884\n",
      "Epoch 4/5\n",
      "50000/50000 [==============================] - 1304s 26ms/step - loss: 0.0352 - acc: 0.9885 - val_loss: 0.0423 - val_acc: 0.9892\n",
      "Epoch 5/5\n",
      "50000/50000 [==============================] - 1307s 26ms/step - loss: 0.0274 - acc: 0.9911 - val_loss: 0.0401 - val_acc: 0.9892\n",
      "Number of filter 24 is tested.\n",
      "Train on 50000 samples, validate on 10000 samples\n",
      "Epoch 1/5\n",
      "50000/50000 [==============================] - 1346s 27ms/step - loss: 0.2605 - acc: 0.9358 - val_loss: 0.0631 - val_acc: 0.9807\n",
      "Epoch 2/5\n",
      "50000/50000 [==============================] - 1340s 27ms/step - loss: 0.0685 - acc: 0.9790 - val_loss: 0.0466 - val_acc: 0.9877\n",
      "Epoch 3/5\n",
      "50000/50000 [==============================] - 1342s 27ms/step - loss: 0.0499 - acc: 0.9850 - val_loss: 0.0530 - val_acc: 0.9859\n",
      "Epoch 4/5\n",
      "50000/50000 [==============================] - 1340s 27ms/step - loss: 0.0395 - acc: 0.9876 - val_loss: 0.0484 - val_acc: 0.9880\n",
      "Epoch 5/5\n",
      "50000/50000 [==============================] - 1343s 27ms/step - loss: 0.0309 - acc: 0.9902 - val_loss: 0.0415 - val_acc: 0.9882\n",
      "Number of filter 32 is tested.\n",
      "Best number of filter for this model is 24\n",
      "Train on 50000 samples, validate on 10000 samples\n",
      "Epoch 1/5\n",
      "50000/50000 [==============================] - 1308s 26ms/step - loss: 0.7658 - acc: 0.9136 - val_loss: 0.0750 - val_acc: 0.9786\n",
      "Epoch 2/5\n",
      "50000/50000 [==============================] - 1303s 26ms/step - loss: 0.0447 - acc: 0.9867 - val_loss: 0.0468 - val_acc: 0.9874\n",
      "Epoch 3/5\n",
      "50000/50000 [==============================] - 1307s 26ms/step - loss: 0.0271 - acc: 0.9911 - val_loss: 0.0533 - val_acc: 0.9860\n",
      "Epoch 4/5\n",
      "50000/50000 [==============================] - 1308s 26ms/step - loss: 0.0160 - acc: 0.9945 - val_loss: 0.0642 - val_acc: 0.9863\n",
      "Epoch 5/5\n",
      "50000/50000 [==============================] - 1306s 26ms/step - loss: 0.0130 - acc: 0.9955 - val_loss: 0.0538 - val_acc: 0.9882\n",
      "Dropout rate 0.1 is tested.\n",
      "Train on 50000 samples, validate on 10000 samples\n",
      "Epoch 1/5\n",
      "50000/50000 [==============================] - 1305s 26ms/step - loss: 0.3182 - acc: 0.9375 - val_loss: 0.0595 - val_acc: 0.9828\n",
      "Epoch 2/5\n",
      "50000/50000 [==============================] - 1308s 26ms/step - loss: 0.0559 - acc: 0.9829 - val_loss: 0.0546 - val_acc: 0.9853\n",
      "Epoch 3/5\n",
      "50000/50000 [==============================] - 1304s 26ms/step - loss: 0.0364 - acc: 0.9883 - val_loss: 0.0486 - val_acc: 0.9877\n",
      "Epoch 4/5\n",
      "50000/50000 [==============================] - 1305s 26ms/step - loss: 0.0239 - acc: 0.9925 - val_loss: 0.0551 - val_acc: 0.9861\n",
      "Epoch 5/5\n",
      "50000/50000 [==============================] - 1307s 26ms/step - loss: 0.0202 - acc: 0.9932 - val_loss: 0.0589 - val_acc: 0.9865\n",
      "Dropout rate 0.2 is tested.\n",
      "Train on 50000 samples, validate on 10000 samples\n",
      "Epoch 1/5\n",
      "50000/50000 [==============================] - 1306s 26ms/step - loss: 0.2405 - acc: 0.9387 - val_loss: 0.0592 - val_acc: 0.9821\n",
      "Epoch 2/5\n",
      "50000/50000 [==============================] - 1307s 26ms/step - loss: 0.0687 - acc: 0.9784 - val_loss: 0.0483 - val_acc: 0.9859\n",
      "Epoch 3/5\n",
      "50000/50000 [==============================] - 1306s 26ms/step - loss: 0.0477 - acc: 0.9850 - val_loss: 0.0499 - val_acc: 0.9869\n",
      "Epoch 4/5\n",
      "50000/50000 [==============================] - 1308s 26ms/step - loss: 0.0363 - acc: 0.9885 - val_loss: 0.0410 - val_acc: 0.9896\n",
      "Epoch 5/5\n",
      "50000/50000 [==============================] - 1308s 26ms/step - loss: 0.0300 - acc: 0.9901 - val_loss: 0.0416 - val_acc: 0.9897\n",
      "Dropout rate 0.3 is tested.\n",
      "Train on 50000 samples, validate on 10000 samples\n",
      "Epoch 1/5\n",
      "50000/50000 [==============================] - 1308s 26ms/step - loss: 0.2630 - acc: 0.9283 - val_loss: 0.0658 - val_acc: 0.9811\n",
      "Epoch 2/5\n",
      "50000/50000 [==============================] - 1302s 26ms/step - loss: 0.0834 - acc: 0.9738 - val_loss: 0.0511 - val_acc: 0.9858\n",
      "Epoch 3/5\n",
      "50000/50000 [==============================] - 1306s 26ms/step - loss: 0.0602 - acc: 0.9820 - val_loss: 0.0409 - val_acc: 0.9878\n",
      "Epoch 4/5\n",
      "50000/50000 [==============================] - 1305s 26ms/step - loss: 0.0448 - acc: 0.9860 - val_loss: 0.0473 - val_acc: 0.9879\n",
      "Epoch 5/5\n",
      "50000/50000 [==============================] - 1304s 26ms/step - loss: 0.0391 - acc: 0.9875 - val_loss: 0.0495 - val_acc: 0.9864\n",
      "Dropout rate 0.4 is tested.\n",
      "Best drop out for this model is 0.3\n"
     ]
    },
    {
     "data": {
      "image/png": "[encoded data removed]",
      "text/plain": [
       "<matplotlib.figure.Figure at 0x1cc66908da0>"
      ]
     },
     "metadata": {},
     "output_type": "display_data"
    },
    {
     "data": {
      "image/png": "[encoded data removed]",
      "text/plain": [
       "<matplotlib.figure.Figure at 0x1cc6f941fd0>"
      ]
     },
     "metadata": {},
     "output_type": "display_data"
    },
    {
     "data": {
      "image/png": "[encoded data removed]",
      "text/plain": [
       "<matplotlib.figure.Figure at 0x1cc1298d940>"
      ]
     },
     "metadata": {},
     "output_type": "display_data"
    }
   ],
   "source": [
    "# Find the best parameters for CNN\n",
    "filter_list = [8,16,24,32]\n",
    "do_list = [0.1,0.2,0.3,0.4]\n",
    "\n",
    "filter_best, do_best, val_acc_filter, val_acc_do = get_best_params_cnn(x_train_cnn,y_train,x_val_cnn,y_val,filter_list,do_list)\n",
    "\n",
    "plt.figure()\n",
    "plt.plot(filter_list, val_acc_filter, 'o')\n",
    "plt.xlabel('Number of Filters', fontsize=15)\n",
    "plt.ylabel('Validation Accuracy', fontsize=15)\n",
    "plt.xticks(fontsize=15)\n",
    "plt.yticks(fontsize=15)\n",
    "plt.title('Convolutional Neural Networks',fontsize=15)\n",
    "plt.figure()\n",
    "plt.plot(do_list, val_acc_do, 'o')\n",
    "plt.xlabel('Drop Out Rate', fontsize=15)\n",
    "plt.ylabel('Validation Accuracy', fontsize=15)\n",
    "plt.xticks(fontsize=15)\n",
    "plt.yticks(fontsize=15)\n",
    "plt.title('Convolutional Neural Networks',fontsize=15)\n",
    "plt.show()"
   ]
  },
  {
   "cell_type": "code",
   "execution_count": 29,
   "metadata": {},
   "outputs": [
    {
     "name": "stdout",
     "output_type": "stream",
     "text": [
      "Train on 50000 samples, validate on 10000 samples\n",
      "Epoch 1/10\n",
      "50000/50000 [==============================] - 1285s 26ms/step - loss: 0.2349 - acc: 0.9344 - val_loss: 0.0631 - val_acc: 0.9830\n",
      "Epoch 2/10\n",
      "50000/50000 [==============================] - 1281s 26ms/step - loss: 0.0693 - acc: 0.9785 - val_loss: 0.0502 - val_acc: 0.9860\n",
      "Epoch 3/10\n",
      "50000/50000 [==============================] - 1283s 26ms/step - loss: 0.0506 - acc: 0.9846 - val_loss: 0.0416 - val_acc: 0.9875\n",
      "Epoch 4/10\n",
      "50000/50000 [==============================] - 1280s 26ms/step - loss: 0.0365 - acc: 0.9883 - val_loss: 0.0449 - val_acc: 0.9883\n",
      "Epoch 5/10\n",
      "50000/50000 [==============================] - 1281s 26ms/step - loss: 0.0322 - acc: 0.9898 - val_loss: 0.0458 - val_acc: 0.9881\n",
      "Epoch 6/10\n",
      "50000/50000 [==============================] - 1284s 26ms/step - loss: 0.0264 - acc: 0.9906 - val_loss: 0.0466 - val_acc: 0.9884\n",
      "Epoch 7/10\n",
      "50000/50000 [==============================] - 1282s 26ms/step - loss: 0.0227 - acc: 0.9920 - val_loss: 0.0423 - val_acc: 0.9895\n",
      "Epoch 8/10\n",
      "50000/50000 [==============================] - 1285s 26ms/step - loss: 0.0216 - acc: 0.9927 - val_loss: 0.0430 - val_acc: 0.9905\n",
      "Epoch 9/10\n",
      "50000/50000 [==============================] - 1286s 26ms/step - loss: 0.0207 - acc: 0.9929 - val_loss: 0.0526 - val_acc: 0.9874\n",
      "Epoch 10/10\n",
      "50000/50000 [==============================] - 1285s 26ms/step - loss: 0.0191 - acc: 0.9935 - val_loss: 0.0437 - val_acc: 0.9904\n",
      "\n",
      "\n",
      "----------------------------------------------------\n",
      "-------Convolutional Neural Networks Results-------\n",
      "----------------------------------------------------\n",
      "Best parameters: \n",
      "number of filters = 16 \n",
      "dropout rate = 0.3\n",
      "accuracy Training: 0.9986\n",
      "accuracy Validation: 0.9904\n",
      "accuracy Testing: 0.9878\n",
      "accuracy USPS: 0.592179608980449\n"
     ]
    }
   ],
   "source": [
    "filter_best = 16\n",
    "do_best_cnn = 0.3\n",
    "cnn_best = get_cnn_model(filter_best,do_best_cnn)\n",
    "history = cnn_best.fit(x_train_cnn,\n",
    "                y_train,\n",
    "                validation_data=(x_val_cnn,y_val),\n",
    "                epochs=10,\n",
    "                batch_size=200,\n",
    "                verbose=1)\n",
    "\n",
    "df = pd.DataFrame(history.history)\n",
    "df.plot(subplots=True, grid=True, figsize=(10,15))\n",
    "plt.title('Convolutional Neural Networks Optimum Performance')\n",
    "\n",
    "acc_train_cnn, acc_val_cnn, acc_test_cnn = accuracy_metrics(cnn_best,x_train_cnn,label_train), accuracy_metrics(cnn_best,x_val_cnn,label_val), accuracy_metrics(cnn_best,x_test_cnn,label_test)\n",
    "acc_usps_test_cnn = accuracy_metrics(cnn_best,x_usps_test_cnn,label_usps_test)\n",
    "\n",
    "print ('\\n')\n",
    "print ('----------------------------------------------------')\n",
    "print (\"-------Convolutional Neural Networks Results-------\")\n",
    "print ('----------------------------------------------------')\n",
    "print (\"Best parameters: \\nnumber of filters = {} \\ndropout rate = {}\".format(filter_best,do_best))\n",
    "print (\"accuracy Training: {}\".format(acc_train_cnn))\n",
    "print (\"accuracy Validation: {}\".format(acc_val_cnn))\n",
    "print (\"accuracy Testing: {}\".format(acc_test_cnn))    \n",
    "print (\"accuracy USPS: {}\".format(acc_usps_test_cnn))   "
   ]
  },
  {
   "cell_type": "code",
   "execution_count": 30,
   "metadata": {},
   "outputs": [
    {
     "name": "stdout",
     "output_type": "stream",
     "text": [
      "\n",
      "\n",
      "Confusion matrix by CNN model on MNIST test set:\n",
      "[[ 977    0    0    0    0    0    1    1    1    0]\n",
      " [   2 1128    1    1    0    1    0    1    1    0]\n",
      " [   1    0 1020    1    0    0    0    7    3    0]\n",
      " [   0    0    3  993    0    6    0    5    3    0]\n",
      " [   0    1    0    0  968    0    5    0    2    6]\n",
      " [   2    0    1    4    0  883    1    0    1    0]\n",
      " [   7    2    0    0    1    5  941    0    2    0]\n",
      " [   1    3    7    0    1    0    0 1016    0    0]\n",
      " [   2    0    2    0    0    2    0    3  964    1]\n",
      " [   0    3    2    0    7    3    0    4    2  988]]\n",
      "Confusion matrix by CNN model on USPS test set:\n",
      "[[ 604    0  186   19  203   28   18   27   36  879]\n",
      " [  23  838  193   31  242   72   25  552   14   10]\n",
      " [  38    6 1739   62   21   42    1   73   17    0]\n",
      " [   6    2   46 1713    1  210    0   18    3    1]\n",
      " [   0   26   34   23 1410   68    9  247  158   25]\n",
      " [   6    1   20   83    2 1802    1   42    2   41]\n",
      " [ 226   19  217   13   61   91 1282    2   53   36]\n",
      " [   9   34  510  442   13   20    9  940   18    5]\n",
      " [  16    5  111  363   44  295   18   72  937  139]\n",
      " [   0   14  165  312  131    9    1  570  220  578]]\n"
     ]
    }
   ],
   "source": [
    "# Calculate confusion matrices for both MNIST and USPS datasets\n",
    "y_pred_cnn = cnn_best.predict(x_test_cnn)\n",
    "label_pred_cnn = [np.argmax(y_pred_cnn[i]) for i in range(len(y_pred_cnn))]\n",
    "cf_cnn = confusion_matrix(label_test, label_pred_cnn)\n",
    "y_usps_pred_cnn = cnn_best.predict(x_usps_test_cnn)\n",
    "label_usps_pred_cnn = [np.argmax(y_usps_pred_cnn[i]) for i in range(len(y_usps_pred_cnn))]\n",
    "cf_usps_cnn = confusion_matrix(label_usps_test, label_usps_pred_cnn)\n",
    "print ('\\n')\n",
    "print ('Confusion matrix by CNN model on MNIST test set:')\n",
    "print (cf_cnn)\n",
    "print ('Confusion matrix by CNN model on USPS test set:')\n",
    "print (cf_usps_cnn)    "
   ]
  },
  {
   "cell_type": "markdown",
   "metadata": {},
   "source": [
    "## Combining Models\n",
    "##  1. Hard Majority Voting Method"
   ]
  },
  {
   "cell_type": "code",
   "execution_count": 31,
   "metadata": {},
   "outputs": [
    {
     "name": "stdout",
     "output_type": "stream",
     "text": [
      "\n",
      "\n",
      "----------------------------------------------------\n",
      "-------Combined Model (Hard Voting) Results-------\n",
      "----------------------------------------------------\n",
      "accuracy Testing: 0.9765\n",
      "accuracy USPS: 0.49312465623281165\n"
     ]
    }
   ],
   "source": [
    "label_pred_combine = []\n",
    "for i in range(len(label_test)):\n",
    "    label_temp = [label_pred_log[i], label_pred_svc[i], label_pred_rf[i], label_pred_dnn[i], label_pred_cnn[i]]\n",
    "    label_pred_combine.append(max(set(label_temp), key=label_temp.count))\n",
    "label_usps_pred_combine = []\n",
    "for j in range(len(label_usps_test)):\n",
    "    label_temp = [label_usps_pred_log[j], label_usps_pred_svc[j], label_usps_pred_rf[j], label_usps_pred_dnn[j], label_usps_pred_cnn[j]]\n",
    "    label_usps_pred_combine.append(max(set(label_temp), key=label_temp.count))\n",
    "\n",
    "# Calculate the accuracy of the combined model on different datasets\n",
    "acc_test_combine, acc_usps_test_combine = accuracy_score(label_test,label_pred_combine), accuracy_score(label_usps_test,label_usps_pred_combine)\n",
    "print ('\\n')\n",
    "print ('----------------------------------------------------')\n",
    "print (\"-------Combined Model (Hard Voting) Results-------\")\n",
    "print ('----------------------------------------------------')\n",
    "print (\"accuracy Testing: {}\".format(acc_test_combine))    \n",
    "print (\"accuracy USPS: {}\".format(acc_usps_test_combine))       "
   ]
  },
  {
   "cell_type": "code",
   "execution_count": 32,
   "metadata": {},
   "outputs": [
    {
     "name": "stdout",
     "output_type": "stream",
     "text": [
      "\n",
      "\n",
      "Confusion matrix by the combined model (hard voting) on MNIST test set:\n",
      "[[ 973    0    1    1    0    1    1    1    2    0]\n",
      " [   0 1126    2    1    0    1    2    0    3    0]\n",
      " [   3    1 1006    3    2    0    1    8    7    1]\n",
      " [   0    0    7  985    0    5    0    5    7    1]\n",
      " [   1    0    2    0  961    0    5    0    2   11]\n",
      " [   2    0    0   15    0  864    3    1    5    2]\n",
      " [   9    2    1    0    3    6  935    0    2    0]\n",
      " [   0    4   15    1    1    0    0  999    1    7]\n",
      " [   6    0    3    4    5    5    2    4  941    4]\n",
      " [   6    5    2    7    7    1    0    4    2  975]]\n",
      "Confusion matrix by the combined model (hard voting) on USPS test set:\n",
      "[[ 713    4  228   40  244   92   26   30   36  587]\n",
      " [  64  735   47  207  291   94   15  478   60    9]\n",
      " [ 117   21 1589   50   36   85   18   53   23    7]\n",
      " [  36   11  133 1501    1  263    2   24   20    9]\n",
      " [  19   89   40   34 1272   94    5  221  164   62]\n",
      " [  49   11   79  115   19 1639   11   28   36   13]\n",
      " [ 258   26  357   40   96  226  954    5   18   20]\n",
      " [  40  177  333  474   39  142   11  646  126   12]\n",
      " [ 138   20  135  324   71  626   51   51  539   45]\n",
      " [  12  151  130  378  139   58    2  555  301  274]]\n"
     ]
    }
   ],
   "source": [
    "# Calculate confusion matrices for both MNIST and USPS datasets\n",
    "cf_combine = confusion_matrix(label_test, label_pred_combine)\n",
    "cf_usps_combine = confusion_matrix(label_usps_test, label_usps_pred_combine)\n",
    "print ('\\n')\n",
    "print ('Confusion matrix by the combined model (hard voting) on MNIST test set:')\n",
    "print (cf_combine)\n",
    "print ('Confusion matrix by the combined model (hard voting) on USPS test set:')\n",
    "print (cf_usps_combine)  "
   ]
  },
  {
   "cell_type": "markdown",
   "metadata": {},
   "source": [
    "## 2. Boosting Method"
   ]
  },
  {
   "cell_type": "code",
   "execution_count": 38,
   "metadata": {},
   "outputs": [
    {
     "name": "stdout",
     "output_type": "stream",
     "text": [
      "Train on 30000 samples, validate on 10000 samples\n",
      "Epoch 1/100\n",
      "30000/30000 [==============================] - 2s 82us/step - loss: 0.7813 - acc: 0.7391 - val_loss: 0.1457 - val_acc: 0.9639\n",
      "Epoch 2/100\n",
      "30000/30000 [==============================] - 2s 65us/step - loss: 0.3402 - acc: 0.8906 - val_loss: 0.1016 - val_acc: 0.9710\n",
      "Epoch 3/100\n",
      "30000/30000 [==============================] - 2s 65us/step - loss: 0.2267 - acc: 0.9255 - val_loss: 0.0793 - val_acc: 0.9775\n",
      "Epoch 4/100\n",
      "30000/30000 [==============================] - 2s 63us/step - loss: 0.1641 - acc: 0.9454 - val_loss: 0.0790 - val_acc: 0.9769\n",
      "Epoch 5/100\n",
      "30000/30000 [==============================] - 2s 63us/step - loss: 0.1289 - acc: 0.9574 - val_loss: 0.0759 - val_acc: 0.9786\n",
      "Epoch 6/100\n",
      "30000/30000 [==============================] - 2s 64us/step - loss: 0.1062 - acc: 0.9655 - val_loss: 0.0741 - val_acc: 0.9791\n",
      "Epoch 7/100\n",
      "30000/30000 [==============================] - 2s 63us/step - loss: 0.0883 - acc: 0.9715 - val_loss: 0.0790 - val_acc: 0.9771\n",
      "Epoch 8/100\n",
      "30000/30000 [==============================] - 2s 63us/step - loss: 0.0780 - acc: 0.9743 - val_loss: 0.0815 - val_acc: 0.9762\n",
      "Epoch 9/100\n",
      "30000/30000 [==============================] - 2s 63us/step - loss: 0.0706 - acc: 0.9769 - val_loss: 0.0718 - val_acc: 0.9794\n",
      "Epoch 10/100\n",
      "30000/30000 [==============================] - 2s 62us/step - loss: 0.0624 - acc: 0.9794 - val_loss: 0.0697 - val_acc: 0.9807\n",
      "Epoch 11/100\n",
      "30000/30000 [==============================] - 2s 64us/step - loss: 0.0548 - acc: 0.9817 - val_loss: 0.0777 - val_acc: 0.9793\n",
      "Epoch 12/100\n",
      "30000/30000 [==============================] - 2s 64us/step - loss: 0.0540 - acc: 0.9815 - val_loss: 0.0846 - val_acc: 0.9774\n",
      "Epoch 13/100\n",
      "30000/30000 [==============================] - 2s 64us/step - loss: 0.0495 - acc: 0.9827 - val_loss: 0.0817 - val_acc: 0.9792\n",
      "Epoch 14/100\n",
      "30000/30000 [==============================] - 2s 63us/step - loss: 0.0489 - acc: 0.9832 - val_loss: 0.0827 - val_acc: 0.9795\n",
      "Epoch 15/100\n",
      "30000/30000 [==============================] - 2s 63us/step - loss: 0.0445 - acc: 0.9846 - val_loss: 0.0774 - val_acc: 0.9805\n",
      "Epoch 16/100\n",
      "30000/30000 [==============================] - 2s 63us/step - loss: 0.0424 - acc: 0.9856 - val_loss: 0.0858 - val_acc: 0.9795\n",
      "Epoch 17/100\n",
      "30000/30000 [==============================] - 2s 64us/step - loss: 0.0430 - acc: 0.9853 - val_loss: 0.0829 - val_acc: 0.9794\n",
      "Epoch 18/100\n",
      "30000/30000 [==============================] - 2s 64us/step - loss: 0.0392 - acc: 0.9871 - val_loss: 0.0814 - val_acc: 0.9811\n",
      "Epoch 19/100\n",
      "30000/30000 [==============================] - 2s 64us/step - loss: 0.0374 - acc: 0.9872 - val_loss: 0.0843 - val_acc: 0.9797\n",
      "Epoch 20/100\n",
      "30000/30000 [==============================] - 2s 64us/step - loss: 0.0371 - acc: 0.9871 - val_loss: 0.0815 - val_acc: 0.9803\n",
      "Epoch 21/100\n",
      "30000/30000 [==============================] - 2s 64us/step - loss: 0.0350 - acc: 0.9883 - val_loss: 0.0870 - val_acc: 0.9813\n",
      "Epoch 22/100\n",
      "30000/30000 [==============================] - 2s 64us/step - loss: 0.0328 - acc: 0.9889 - val_loss: 0.0873 - val_acc: 0.9797\n",
      "Epoch 23/100\n",
      "30000/30000 [==============================] - 2s 63us/step - loss: 0.0347 - acc: 0.9885 - val_loss: 0.0848 - val_acc: 0.9810\n",
      "Epoch 24/100\n",
      "30000/30000 [==============================] - 2s 65us/step - loss: 0.0314 - acc: 0.9893 - val_loss: 0.0944 - val_acc: 0.9802\n",
      "Epoch 25/100\n",
      "30000/30000 [==============================] - 2s 65us/step - loss: 0.0294 - acc: 0.9900 - val_loss: 0.0899 - val_acc: 0.9811\n",
      "Epoch 26/100\n",
      "30000/30000 [==============================] - 2s 65us/step - loss: 0.0306 - acc: 0.9892 - val_loss: 0.0874 - val_acc: 0.9815\n",
      "Epoch 27/100\n",
      "30000/30000 [==============================] - 2s 63us/step - loss: 0.0325 - acc: 0.9896 - val_loss: 0.0910 - val_acc: 0.9805\n",
      "Epoch 28/100\n",
      "30000/30000 [==============================] - 2s 64us/step - loss: 0.0338 - acc: 0.9884 - val_loss: 0.0936 - val_acc: 0.9807\n",
      "Epoch 29/100\n",
      "30000/30000 [==============================] - 2s 64us/step - loss: 0.0326 - acc: 0.9890 - val_loss: 0.0941 - val_acc: 0.9810\n",
      "Epoch 30/100\n",
      "30000/30000 [==============================] - 2s 64us/step - loss: 0.0276 - acc: 0.9910 - val_loss: 0.0922 - val_acc: 0.9814\n",
      "Epoch 00030: early stopping\n",
      "Train on 30000 samples, validate on 10000 samples\n",
      "Epoch 1/5\n",
      "30000/30000 [==============================] - 780s 26ms/step - loss: 0.5019 - acc: 0.8491 - val_loss: 0.0596 - val_acc: 0.9834\n",
      "Epoch 2/5\n",
      "30000/30000 [==============================] - 782s 26ms/step - loss: 0.1232 - acc: 0.9581 - val_loss: 0.0473 - val_acc: 0.9866\n",
      "Epoch 3/5\n",
      "30000/30000 [==============================] - 777s 26ms/step - loss: 0.0737 - acc: 0.9756 - val_loss: 0.0425 - val_acc: 0.9869\n",
      "Epoch 4/5\n",
      "30000/30000 [==============================] - 778s 26ms/step - loss: 0.0444 - acc: 0.9852 - val_loss: 0.0418 - val_acc: 0.9873\n",
      "Epoch 5/5\n",
      "30000/30000 [==============================] - 780s 26ms/step - loss: 0.0356 - acc: 0.9879 - val_loss: 0.0388 - val_acc: 0.9898\n"
     ]
    }
   ],
   "source": [
    "def missclassified(label_true,label_pred):\n",
    "    miss_list = []\n",
    "    for i in range(len(label_true)):\n",
    "        if label_pred[i] != label_true[i]:\n",
    "            miss_list.append(i)\n",
    "    return miss_list\n",
    "\n",
    "\"\"\" Construct all five models to be combined with \"\"\"\n",
    "svc_linear1 = SVC(kernel='linear', C=C_best_linear) \n",
    "rf1 = RandomForestClassifier(n_estimators=n_trees_best)\n",
    "dnn1 = get_dnn_model(do_best, nodes_best)  \n",
    "cnn1 = get_cnn_model(filter_best, do_best_cnn)\n",
    "\n",
    "\"\"\"iteration 1: logistic regreesion. Select 60% of training set randomly with equal weights. Then train with logistic regression.\"\"\"\n",
    "index_list = list(range(x_train.shape[0]))\n",
    "list1 = random.choices(index_list,k=int(0.6*x_train.shape[0]))\n",
    "x_train1, y_train1 = x_train[list1,:], y_train[list1,:]\n",
    "logreg1 = logistic_regression(lamb_best, lr_best, 20)\n",
    "w1 = logreg1.train(x_train1, y_train1, silent=True)\n",
    "y_pred_log1 = logreg1.predict(w1, x_train)\n",
    "label_pred_log1 = [np.argmax(y_pred_log1[i]) for i in range(x_train.shape[0])]\n",
    "miss_list1 = missclassified(label_train,label_pred_log1)\n",
    "# Set the weights of missclassified samples 5 times higher\n",
    "index_list += miss_list1*4\n",
    "\n",
    "\"\"\"iteration 2: SVC. Select 60% of training set randomly with the new weights. Then train with linear SVC.\"\"\"\n",
    "list2 = random.choices(index_list,k=int(0.6*x_train.shape[0]))\n",
    "x_train2, label_train2 = x_train[list2,:], label_train[list2]\n",
    "svc_linear1.fit(x_train2, label_train2)\n",
    "label_pred_svc1 = svc_linear1.predict(x_train)\n",
    "miss_list2 = missclassified(label_train,label_pred_svc1)\n",
    "index_list += miss_list2*4\n",
    "\n",
    "\"\"\"iteration 3: Random Forest. Select 60% of training set randomly with the new weights. Then train with random forest.\"\"\"\n",
    "list3 = random.choices(index_list,k=int(0.6*x_train.shape[0]))\n",
    "x_train3, label_train3 = x_train[list3,:], label_train[list3]\n",
    "rf1.fit(x_train3, label_train3)\n",
    "label_pred_rf1 = rf1.predict(x_train)\n",
    "miss_list3 = missclassified(label_train,label_pred_rf1)\n",
    "index_list += miss_list3*4    \n",
    "\n",
    "\"\"\"iteration 4: DNN. Select 60% of training set randomly with the new weights. Then train with DNN.\"\"\"\n",
    "list4 = random.choices(index_list,k=int(0.6*x_train.shape[0]))\n",
    "x_train4, y_train4 = x_train[list4,:], y_train[list4,:]\n",
    "history = dnn1.fit(x_train4,\n",
    "                    y_train4,\n",
    "                    validation_data=(x_val, y_val),\n",
    "                    epochs=100,\n",
    "                    batch_size=100,\n",
    "                    callbacks = [tensorboard_cb,earlystopping_cb],\n",
    "                    verbose=1) \n",
    "y_pred_dnn1 = dnn1.predict(x_train)\n",
    "label_pred_dnn1 = [np.argmax(y_pred_dnn1[i]) for i in range(len(y_pred_dnn1))]      \n",
    "miss_list4 = missclassified(label_train,label_pred_dnn1)\n",
    "index_list += miss_list4*4 \n",
    "\n",
    "\"\"\"iteration 5: CNN. Select 60% of training set randomly with the new weights. Then train with CNN.\"\"\"\n",
    "list5 = random.choices(index_list,k=int(0.6*x_train.shape[0]))\n",
    "x_train5, y_train5 = x_train_cnn[list5,:,:,:], y_train[list5,:]\n",
    "history = cnn1.fit(x_train5,\n",
    "            y_train5,\n",
    "            validation_data=(x_val_cnn,y_val),\n",
    "            epochs=5,\n",
    "            batch_size=200,\n",
    "            verbose=1)"
   ]
  },
  {
   "cell_type": "code",
   "execution_count": 40,
   "metadata": {
    "collapsed": true
   },
   "outputs": [],
   "source": [
    "# Use hard voting to combine these newly trained models\n",
    "y_pred_log1 = logreg.predict(w1, x_test)\n",
    "label_pred_log1 = [np.argmax(y_pred_log1[i]) for i in range(x_test.shape[0])]\n",
    "y_usps_pred_log1 = logreg.predict(w1, x_usps_test)\n",
    "label_usps_pred_log1 = [np.argmax(y_usps_pred_log1[i]) for i in range(x_usps_test.shape[0])]\n",
    "\n",
    "label_pred_svc1 = svc_linear1.predict(x_test)\n",
    "label_pred_rf1 = rf1.predict(x_test)\n",
    "label_usps_pred_svc1 = svc_linear1.predict(x_usps_test)\n",
    "label_usps_pred_rf1 = rf1.predict(x_usps_test)\n",
    "\n",
    "y_pred_dnn1 = dnn1.predict(x_test)\n",
    "label_pred_dnn1 = [np.argmax(y_pred_dnn1[i]) for i in range(len(y_pred_dnn1))]    \n",
    "y_usps_pred_dnn1 = dnn1.predict(x_usps_test)\n",
    "label_usps_pred_dnn1 = [np.argmax(y_usps_pred_dnn1[i]) for i in range(len(y_usps_pred_dnn1))]\n",
    "\n",
    "y_pred_cnn1 = cnn1.predict(x_test_cnn)\n",
    "label_pred_cnn1 = [np.argmax(y_pred_cnn1[i]) for i in range(len(y_pred_cnn1))]    \n",
    "y_usps_pred_cnn1 = cnn1.predict(x_usps_test_cnn)\n",
    "label_usps_pred_cnn1 = [np.argmax(y_usps_pred_cnn1[i]) for i in range(len(y_usps_pred_cnn1))]\n",
    "\n",
    "label_pred_combine1 = []\n",
    "for i in range(len(label_test)):\n",
    "    label_temp = [label_pred_log1[i], label_pred_svc1[i], label_pred_rf1[i], label_pred_dnn1[i], label_pred_cnn1[i]]\n",
    "    label_pred_combine1.append(max(set(label_temp), key=label_temp.count))\n",
    "label_usps_pred_combine1 = []\n",
    "for j in range(len(label_usps_test)):\n",
    "    label_temp = [label_usps_pred_log1[j], label_usps_pred_svc1[j], label_usps_pred_rf1[j], label_usps_pred_dnn1[j], label_usps_pred_cnn1[j]]\n",
    "    label_usps_pred_combine1.append(max(set(label_temp), key=label_temp.count))"
   ]
  },
  {
   "cell_type": "code",
   "execution_count": 41,
   "metadata": {},
   "outputs": [
    {
     "name": "stdout",
     "output_type": "stream",
     "text": [
      "\n",
      "\n",
      "----------------------------------------------------\n",
      "-------Combined Model (Boosting) Results-------\n",
      "----------------------------------------------------\n",
      "accuracy Testing: 0.9809\n",
      "accuracy USPS: 0.47747387369368466\n"
     ]
    }
   ],
   "source": [
    "# Calculate the accuracy of the combined model on different datasets\n",
    "acc_test_combine1, acc_usps_test_combine1 = accuracy_score(label_test,label_pred_combine1), accuracy_score(label_usps_test,label_usps_pred_combine1)\n",
    "print ('\\n')\n",
    "print ('----------------------------------------------------')\n",
    "print (\"-------Combined Model (Boosting) Results-------\")\n",
    "print ('----------------------------------------------------')\n",
    "print (\"accuracy Testing: {}\".format(acc_test_combine1))    \n",
    "print (\"accuracy USPS: {}\".format(acc_usps_test_combine1))   "
   ]
  },
  {
   "cell_type": "code",
   "execution_count": 42,
   "metadata": {},
   "outputs": [
    {
     "name": "stdout",
     "output_type": "stream",
     "text": [
      "\n",
      "\n",
      "Confusion matrix by the combined model (boosting) on MNIST test set:\n",
      "[[ 971    0    2    0    0    1    2    1    3    0]\n",
      " [   0 1126    2    1    0    0    2    1    3    0]\n",
      " [   2    0 1014    1    1    0    2    6    5    1]\n",
      " [   0    0    2  992    0    4    0    3    6    3]\n",
      " [   1    0    2    0  966    0    3    0    2    8]\n",
      " [   2    0    1    6    0  871    4    1    4    3]\n",
      " [   6    3    2    0    1    4  942    0    0    0]\n",
      " [   0    5   18    0    1    0    0  998    2    4]\n",
      " [   6    0    3    3    3    1    0    2  953    3]\n",
      " [   8    5    0    7    6    1    0    3    3  976]]\n",
      "Confusion matrix by the combined model (boosting) on USPS test set:\n",
      "[[ 615    3  225   53  218   86   51   45   49  655]\n",
      " [  60  768   46  193  317   78   24  411   83   20]\n",
      " [  91   33 1593   68   24  103   19   33   28    7]\n",
      " [  32   11  126 1506    5  247    0   27   39    7]\n",
      " [  13  109   43   27 1179   85    6  298  176   64]\n",
      " [  37   18   88  131   12 1616   18   40   33    7]\n",
      " [ 193   23  456   27   81  270  893    8   31   18]\n",
      " [  45  206  272  474   34  126   11  673  145   14]\n",
      " [ 127   30  146  405   50  651   48   59  441   43]\n",
      " [  13  172  124  387  126   54    4  552  303  265]]\n"
     ]
    }
   ],
   "source": [
    "# Calculate confusion matrices for both MNIST and USPS datasets\n",
    "cf_combine1 = confusion_matrix(label_test, label_pred_combine1)\n",
    "cf_usps_combine1 = confusion_matrix(label_usps_test, label_usps_pred_combine1)\n",
    "print ('\\n')\n",
    "print ('Confusion matrix by the combined model (boosting) on MNIST test set:')\n",
    "print (cf_combine1)\n",
    "print ('Confusion matrix by the combined model (boosting) on USPS test set:')\n",
    "print (cf_usps_combine1)  "
   ]
  }
 ],
 "metadata": {
  "kernelspec": {
   "display_name": "Python 3",
   "language": "python",
   "name": "python3"
  },
  "language_info": {
   "codemirror_mode": {
    "name": "ipython",
    "version": 3
   },
   "file_extension": ".py",
   "mimetype": "text/x-python",
   "name": "python",
   "nbconvert_exporter": "python",
   "pygments_lexer": "ipython3",
   "version": "3.6.3"
  }
 },
 "nbformat": 4,
 "nbformat_minor": 2
}
