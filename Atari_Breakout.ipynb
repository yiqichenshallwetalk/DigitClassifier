{
  "nbformat": 4,
  "nbformat_minor": 0,
  "metadata": {
    "colab": {
      "name": "Bonus1.ipynb",
      "version": "0.3.2",
      "provenance": [],
      "collapsed_sections": [],
      "include_colab_link": true
    },
    "kernelspec": {
      "name": "python3",
      "display_name": "Python 3"
    },
    "accelerator": "GPU"
  },
  "cells": [
    {
      "cell_type": "markdown",
      "metadata": {
        "id": "view-in-github",
        "colab_type": "text"
      },
      "source": [
        "<a href=\"https://colab.research.google.com/github/yiqichenshallwetalk/DigitClassifier/blob/master/Atari_Breakout.ipynb\" target=\"_parent\"><img src=\"https://colab.research.google.com/assets/colab-badge.svg\" alt=\"Open In Colab\"/></a>"
      ]
    },
    {
      "metadata": {
        "id": "3iMUgIz_c2bp",
        "colab_type": "text"
      },
      "cell_type": "markdown",
      "source": [
        "## Install the stable_baselines library"
      ]
    },
    {
      "metadata": {
        "id": "KEWuT_rULWOL",
        "colab_type": "code",
        "outputId": "987519d7-4f37-4239-ba58-252e43dcdfa0",
        "colab": {
          "base_uri": "https://localhost:8080/",
          "height": 1112
        }
      },
      "cell_type": "code",
      "source": [
        "! apt install cmake libopenmpi-dev zlib1g-dev\n",
        "! pip install stable-baselines\n",
        "! apt-get install python-opengl"
      ],
      "execution_count": 0,
      "outputs": [
        {
          "output_type": "stream",
          "text": [
            "Reading package lists... Done\n",
            "Building dependency tree       \n",
            "Reading state information... Done\n",
            "cmake is already the newest version (3.10.2-1ubuntu2).\n",
            "zlib1g-dev is already the newest version (1:1.2.11.dfsg-0ubuntu2).\n",
            "libopenmpi-dev is already the newest version (2.1.1-8).\n",
            "0 upgraded, 0 newly installed, 0 to remove and 7 not upgraded.\n",
            "Requirement already satisfied: stable-baselines in /usr/local/lib/python3.6/dist-packages (2.2.1)\n",
            "Requirement already satisfied: tensorflow>=1.5.0 in /usr/local/lib/python3.6/dist-packages (from stable-baselines) (1.12.0)\n",
            "Requirement already satisfied: seaborn in /usr/local/lib/python3.6/dist-packages (from stable-baselines) (0.7.1)\n",
            "Requirement already satisfied: joblib in /usr/local/lib/python3.6/dist-packages (from stable-baselines) (0.13.0)\n",
            "Requirement already satisfied: pandas in /usr/local/lib/python3.6/dist-packages (from stable-baselines) (0.22.0)\n",
            "Requirement already satisfied: dill in /usr/local/lib/python3.6/dist-packages (from stable-baselines) (0.2.8.2)\n",
            "Requirement already satisfied: progressbar2 in /usr/local/lib/python3.6/dist-packages (from stable-baselines) (3.38.0)\n",
            "Requirement already satisfied: cloudpickle in /usr/local/lib/python3.6/dist-packages (from stable-baselines) (0.6.1)\n",
            "Requirement already satisfied: zmq in /usr/local/lib/python3.6/dist-packages (from stable-baselines) (0.0.0)\n",
            "Requirement already satisfied: matplotlib in /usr/local/lib/python3.6/dist-packages (from stable-baselines) (2.1.2)\n",
            "Requirement already satisfied: gym[atari,classic_control]>=0.10.9 in /usr/local/lib/python3.6/dist-packages (from stable-baselines) (0.10.9)\n",
            "Requirement already satisfied: numpy in /usr/local/lib/python3.6/dist-packages (from stable-baselines) (1.14.6)\n",
            "Requirement already satisfied: scipy in /usr/local/lib/python3.6/dist-packages (from stable-baselines) (1.1.0)\n",
            "Requirement already satisfied: opencv-python in /usr/local/lib/python3.6/dist-packages (from stable-baselines) (3.4.4.19)\n",
            "Requirement already satisfied: mpi4py in /usr/local/lib/python3.6/dist-packages (from stable-baselines) (3.0.0)\n",
            "Requirement already satisfied: tqdm in /usr/local/lib/python3.6/dist-packages (from stable-baselines) (4.28.1)\n",
            "Requirement already satisfied: click in /usr/local/lib/python3.6/dist-packages (from stable-baselines) (7.0)\n",
            "Requirement already satisfied: glob2 in /usr/local/lib/python3.6/dist-packages (from stable-baselines) (0.6)\n",
            "Requirement already satisfied: absl-py>=0.1.6 in /usr/local/lib/python3.6/dist-packages (from tensorflow>=1.5.0->stable-baselines) (0.6.1)\n",
            "Requirement already satisfied: tensorboard<1.13.0,>=1.12.0 in /usr/local/lib/python3.6/dist-packages (from tensorflow>=1.5.0->stable-baselines) (1.12.0)\n",
            "Requirement already satisfied: keras-applications>=1.0.6 in /usr/local/lib/python3.6/dist-packages (from tensorflow>=1.5.0->stable-baselines) (1.0.6)\n",
            "Requirement already satisfied: termcolor>=1.1.0 in /usr/local/lib/python3.6/dist-packages (from tensorflow>=1.5.0->stable-baselines) (1.1.0)\n",
            "Requirement already satisfied: six>=1.10.0 in /usr/local/lib/python3.6/dist-packages (from tensorflow>=1.5.0->stable-baselines) (1.11.0)\n",
            "Requirement already satisfied: astor>=0.6.0 in /usr/local/lib/python3.6/dist-packages (from tensorflow>=1.5.0->stable-baselines) (0.7.1)\n",
            "Requirement already satisfied: gast>=0.2.0 in /usr/local/lib/python3.6/dist-packages (from tensorflow>=1.5.0->stable-baselines) (0.2.0)\n",
            "Requirement already satisfied: protobuf>=3.6.1 in /usr/local/lib/python3.6/dist-packages (from tensorflow>=1.5.0->stable-baselines) (3.6.1)\n",
            "Requirement already satisfied: wheel>=0.26 in /usr/local/lib/python3.6/dist-packages (from tensorflow>=1.5.0->stable-baselines) (0.32.3)\n",
            "Requirement already satisfied: keras-preprocessing>=1.0.5 in /usr/local/lib/python3.6/dist-packages (from tensorflow>=1.5.0->stable-baselines) (1.0.5)\n",
            "Requirement already satisfied: grpcio>=1.8.6 in /usr/local/lib/python3.6/dist-packages (from tensorflow>=1.5.0->stable-baselines) (1.15.0)\n",
            "Requirement already satisfied: python-dateutil>=2 in /usr/local/lib/python3.6/dist-packages (from pandas->stable-baselines) (2.5.3)\n",
            "Requirement already satisfied: pytz>=2011k in /usr/local/lib/python3.6/dist-packages (from pandas->stable-baselines) (2018.7)\n",
            "Requirement already satisfied: python-utils>=2.3.0 in /usr/local/lib/python3.6/dist-packages (from progressbar2->stable-baselines) (2.3.0)\n",
            "Requirement already satisfied: pyzmq in /usr/local/lib/python3.6/dist-packages (from zmq->stable-baselines) (17.0.0)\n",
            "Requirement already satisfied: cycler>=0.10 in /usr/local/lib/python3.6/dist-packages (from matplotlib->stable-baselines) (0.10.0)\n",
            "Requirement already satisfied: pyparsing!=2.0.4,!=2.1.2,!=2.1.6,>=2.0.1 in /usr/local/lib/python3.6/dist-packages (from matplotlib->stable-baselines) (2.3.0)\n",
            "Requirement already satisfied: requests>=2.0 in /usr/local/lib/python3.6/dist-packages (from gym[atari,classic_control]>=0.10.9->stable-baselines) (2.18.4)\n",
            "Requirement already satisfied: pyglet>=1.2.0 in /usr/local/lib/python3.6/dist-packages (from gym[atari,classic_control]>=0.10.9->stable-baselines) (1.3.2)\n",
            "Requirement already satisfied: Pillow; extra == \"atari\" in /usr/local/lib/python3.6/dist-packages (from gym[atari,classic_control]>=0.10.9->stable-baselines) (4.0.0)\n",
            "Requirement already satisfied: PyOpenGL; extra == \"atari\" in /usr/local/lib/python3.6/dist-packages (from gym[atari,classic_control]>=0.10.9->stable-baselines) (3.1.0)\n",
            "Requirement already satisfied: atari-py>=0.1.4; extra == \"atari\" in /usr/local/lib/python3.6/dist-packages (from gym[atari,classic_control]>=0.10.9->stable-baselines) (0.1.7)\n",
            "Requirement already satisfied: werkzeug>=0.11.10 in /usr/local/lib/python3.6/dist-packages (from tensorboard<1.13.0,>=1.12.0->tensorflow>=1.5.0->stable-baselines) (0.14.1)\n",
            "Requirement already satisfied: markdown>=2.6.8 in /usr/local/lib/python3.6/dist-packages (from tensorboard<1.13.0,>=1.12.0->tensorflow>=1.5.0->stable-baselines) (3.0.1)\n",
            "Requirement already satisfied: h5py in /usr/local/lib/python3.6/dist-packages (from keras-applications>=1.0.6->tensorflow>=1.5.0->stable-baselines) (2.8.0)\n",
            "Requirement already satisfied: setuptools in /usr/local/lib/python3.6/dist-packages (from protobuf>=3.6.1->tensorflow>=1.5.0->stable-baselines) (40.6.2)\n",
            "Requirement already satisfied: chardet<3.1.0,>=3.0.2 in /usr/local/lib/python3.6/dist-packages (from requests>=2.0->gym[atari,classic_control]>=0.10.9->stable-baselines) (3.0.4)\n",
            "Requirement already satisfied: certifi>=2017.4.17 in /usr/local/lib/python3.6/dist-packages (from requests>=2.0->gym[atari,classic_control]>=0.10.9->stable-baselines) (2018.10.15)\n",
            "Requirement already satisfied: idna<2.7,>=2.5 in /usr/local/lib/python3.6/dist-packages (from requests>=2.0->gym[atari,classic_control]>=0.10.9->stable-baselines) (2.6)\n",
            "Requirement already satisfied: urllib3<1.23,>=1.21.1 in /usr/local/lib/python3.6/dist-packages (from requests>=2.0->gym[atari,classic_control]>=0.10.9->stable-baselines) (1.22)\n",
            "Requirement already satisfied: future in /usr/local/lib/python3.6/dist-packages (from pyglet>=1.2.0->gym[atari,classic_control]>=0.10.9->stable-baselines) (0.16.0)\n",
            "Requirement already satisfied: olefile in /usr/local/lib/python3.6/dist-packages (from Pillow; extra == \"atari\"->gym[atari,classic_control]>=0.10.9->stable-baselines) (0.46)\n",
            "Reading package lists... Done\n",
            "Building dependency tree       \n",
            "Reading state information... Done\n",
            "python-opengl is already the newest version (3.1.0+dfsg-1).\n",
            "0 upgraded, 0 newly installed, 0 to remove and 7 not upgraded.\n"
          ],
          "name": "stdout"
        }
      ]
    },
    {
      "metadata": {
        "id": "gFto-0CJdNRc",
        "colab_type": "text"
      },
      "cell_type": "markdown",
      "source": [
        "## Import neccessary packages\n",
        "- os - an unix like operating system\n",
        "-  time - will be used to track how much time each computation takes\n",
        "- numpy - is the main package for scientific computing with Python\n",
        "- matplotlib - is a plotting library\n",
        "- random - a random number generator\n",
        "- stable_baselines - is a module that can create environments, policies as well as different learning algorithms such as deep Q-networks.\n"
      ]
    },
    {
      "metadata": {
        "id": "pwvvo8YsL1oS",
        "colab_type": "code",
        "colab": {}
      },
      "cell_type": "code",
      "source": [
        "import os\n",
        "import time\n",
        "import matplotlib.pyplot as plt\n",
        "import numpy as np\n",
        "import random\n",
        "from stable_baselines.common.cmd_util import make_atari\n",
        "from stable_baselines.deepq.policies import CnnPolicy\n",
        "from stable_baselines import DQN\n",
        "from stable_baselines.bench import Monitor\n",
        "from stable_baselines.results_plotter import load_results, ts2xy"
      ],
      "execution_count": 0,
      "outputs": []
    },
    {
      "metadata": {
        "id": "r0VWDFQg-StT",
        "colab_type": "text"
      },
      "cell_type": "markdown",
      "source": [
        "## Test the performance of an untrained agent in 1000 episodes\n",
        "It performs random move at each step."
      ]
    },
    {
      "metadata": {
        "id": "vKEPNTaP-QXq",
        "colab_type": "code",
        "outputId": "876ede4b-3d50-4805-d622-9a74180ff523",
        "colab": {
          "base_uri": "https://localhost:8080/",
          "height": 3484
        }
      },
      "cell_type": "code",
      "source": [
        "# Create the Atari Breakout game environment \n",
        "env = make_atari('BreakoutNoFrameskip-v4')\n",
        "\n",
        "# Test the performance of an agent taking random actions\n",
        "episode_rewards_pre = []\n",
        "for episode in range(1000):\n",
        "    R = 0\n",
        "    obs = env.reset()\n",
        "    for t in range(1000):\n",
        "        action = random.randint(0,3)\n",
        "        obs, reward, done, info = env.step(action)\n",
        "        R += reward\n",
        "        if done or t == 999:\n",
        "            episode_rewards_pre.append(R)\n",
        "            if episode % 10 == 0:\n",
        "              print('episode :{}'.format(episode))\n",
        "              print(\"Rolling Episode Rewards: {}\".format(np.mean(episode_rewards_pre[-10:])))  \n",
        "            break"
      ],
      "execution_count": 0,
      "outputs": [
        {
          "output_type": "stream",
          "text": [
            "episode :0\n",
            "Rolling Episode Rewards: 0.0\n",
            "episode :10\n",
            "Rolling Episode Rewards: 1.0\n",
            "episode :20\n",
            "Rolling Episode Rewards: 1.0\n",
            "episode :30\n",
            "Rolling Episode Rewards: 1.3\n",
            "episode :40\n",
            "Rolling Episode Rewards: 1.7\n",
            "episode :50\n",
            "Rolling Episode Rewards: 1.6\n",
            "episode :60\n",
            "Rolling Episode Rewards: 1.8\n",
            "episode :70\n",
            "Rolling Episode Rewards: 1.6\n",
            "episode :80\n",
            "Rolling Episode Rewards: 1.3\n",
            "episode :90\n",
            "Rolling Episode Rewards: 1.0\n",
            "episode :100\n",
            "Rolling Episode Rewards: 1.0\n",
            "episode :110\n",
            "Rolling Episode Rewards: 1.9\n",
            "episode :120\n",
            "Rolling Episode Rewards: 1.9\n",
            "episode :130\n",
            "Rolling Episode Rewards: 1.2\n",
            "episode :140\n",
            "Rolling Episode Rewards: 1.1\n",
            "episode :150\n",
            "Rolling Episode Rewards: 1.3\n",
            "episode :160\n",
            "Rolling Episode Rewards: 1.3\n",
            "episode :170\n",
            "Rolling Episode Rewards: 1.7\n",
            "episode :180\n",
            "Rolling Episode Rewards: 1.7\n",
            "episode :190\n",
            "Rolling Episode Rewards: 1.1\n",
            "episode :200\n",
            "Rolling Episode Rewards: 0.5\n",
            "episode :210\n",
            "Rolling Episode Rewards: 0.9\n",
            "episode :220\n",
            "Rolling Episode Rewards: 1.2\n",
            "episode :230\n",
            "Rolling Episode Rewards: 1.0\n",
            "episode :240\n",
            "Rolling Episode Rewards: 0.8\n",
            "episode :250\n",
            "Rolling Episode Rewards: 1.4\n",
            "episode :260\n",
            "Rolling Episode Rewards: 0.7\n",
            "episode :270\n",
            "Rolling Episode Rewards: 0.8\n",
            "episode :280\n",
            "Rolling Episode Rewards: 0.6\n",
            "episode :290\n",
            "Rolling Episode Rewards: 1.6\n",
            "episode :300\n",
            "Rolling Episode Rewards: 2.5\n",
            "episode :310\n",
            "Rolling Episode Rewards: 0.8\n",
            "episode :320\n",
            "Rolling Episode Rewards: 1.1\n",
            "episode :330\n",
            "Rolling Episode Rewards: 1.2\n",
            "episode :340\n",
            "Rolling Episode Rewards: 1.5\n",
            "episode :350\n",
            "Rolling Episode Rewards: 1.6\n",
            "episode :360\n",
            "Rolling Episode Rewards: 1.2\n",
            "episode :370\n",
            "Rolling Episode Rewards: 1.3\n",
            "episode :380\n",
            "Rolling Episode Rewards: 1.6\n",
            "episode :390\n",
            "Rolling Episode Rewards: 1.2\n",
            "episode :400\n",
            "Rolling Episode Rewards: 1.5\n",
            "episode :410\n",
            "Rolling Episode Rewards: 1.2\n",
            "episode :420\n",
            "Rolling Episode Rewards: 1.5\n",
            "episode :430\n",
            "Rolling Episode Rewards: 1.0\n",
            "episode :440\n",
            "Rolling Episode Rewards: 1.7\n",
            "episode :450\n",
            "Rolling Episode Rewards: 1.8\n",
            "episode :460\n",
            "Rolling Episode Rewards: 0.3\n",
            "episode :470\n",
            "Rolling Episode Rewards: 1.6\n",
            "episode :480\n",
            "Rolling Episode Rewards: 1.2\n",
            "episode :490\n",
            "Rolling Episode Rewards: 2.6\n",
            "episode :500\n",
            "Rolling Episode Rewards: 2.0\n",
            "episode :510\n",
            "Rolling Episode Rewards: 1.2\n",
            "episode :520\n",
            "Rolling Episode Rewards: 1.5\n",
            "episode :530\n",
            "Rolling Episode Rewards: 1.6\n",
            "episode :540\n",
            "Rolling Episode Rewards: 1.3\n",
            "episode :550\n",
            "Rolling Episode Rewards: 1.9\n",
            "episode :560\n",
            "Rolling Episode Rewards: 1.4\n",
            "episode :570\n",
            "Rolling Episode Rewards: 1.1\n",
            "episode :580\n",
            "Rolling Episode Rewards: 1.6\n",
            "episode :590\n",
            "Rolling Episode Rewards: 1.3\n",
            "episode :600\n",
            "Rolling Episode Rewards: 1.3\n",
            "episode :610\n",
            "Rolling Episode Rewards: 1.2\n",
            "episode :620\n",
            "Rolling Episode Rewards: 1.4\n",
            "episode :630\n",
            "Rolling Episode Rewards: 0.6\n",
            "episode :640\n",
            "Rolling Episode Rewards: 1.7\n",
            "episode :650\n",
            "Rolling Episode Rewards: 1.1\n",
            "episode :660\n",
            "Rolling Episode Rewards: 1.4\n",
            "episode :670\n",
            "Rolling Episode Rewards: 0.5\n",
            "episode :680\n",
            "Rolling Episode Rewards: 0.9\n",
            "episode :690\n",
            "Rolling Episode Rewards: 1.3\n",
            "episode :700\n",
            "Rolling Episode Rewards: 1.7\n",
            "episode :710\n",
            "Rolling Episode Rewards: 1.5\n",
            "episode :720\n",
            "Rolling Episode Rewards: 2.3\n",
            "episode :730\n",
            "Rolling Episode Rewards: 0.7\n",
            "episode :740\n",
            "Rolling Episode Rewards: 0.9\n",
            "episode :750\n",
            "Rolling Episode Rewards: 1.5\n",
            "episode :760\n",
            "Rolling Episode Rewards: 1.1\n",
            "episode :770\n",
            "Rolling Episode Rewards: 1.8\n",
            "episode :780\n",
            "Rolling Episode Rewards: 1.0\n",
            "episode :790\n",
            "Rolling Episode Rewards: 2.0\n",
            "episode :800\n",
            "Rolling Episode Rewards: 1.5\n",
            "episode :810\n",
            "Rolling Episode Rewards: 1.7\n",
            "episode :820\n",
            "Rolling Episode Rewards: 1.0\n",
            "episode :830\n",
            "Rolling Episode Rewards: 1.8\n",
            "episode :840\n",
            "Rolling Episode Rewards: 1.1\n",
            "episode :850\n",
            "Rolling Episode Rewards: 1.3\n",
            "episode :860\n",
            "Rolling Episode Rewards: 1.1\n",
            "episode :870\n",
            "Rolling Episode Rewards: 1.5\n",
            "episode :880\n",
            "Rolling Episode Rewards: 1.1\n",
            "episode :890\n",
            "Rolling Episode Rewards: 1.1\n",
            "episode :900\n",
            "Rolling Episode Rewards: 0.9\n",
            "episode :910\n",
            "Rolling Episode Rewards: 1.0\n",
            "episode :920\n",
            "Rolling Episode Rewards: 0.7\n",
            "episode :930\n",
            "Rolling Episode Rewards: 0.4\n",
            "episode :940\n",
            "Rolling Episode Rewards: 0.9\n",
            "episode :950\n",
            "Rolling Episode Rewards: 1.6\n",
            "episode :960\n",
            "Rolling Episode Rewards: 1.4\n",
            "episode :970\n",
            "Rolling Episode Rewards: 1.5\n",
            "episode :980\n",
            "Rolling Episode Rewards: 1.7\n",
            "episode :990\n",
            "Rolling Episode Rewards: 1.2\n"
          ],
          "name": "stdout"
        }
      ]
    },
    {
      "metadata": {
        "id": "uJLRb8Mf--xT",
        "colab_type": "text"
      },
      "cell_type": "markdown",
      "source": [
        "## Plot the smoothed episode rewards"
      ]
    },
    {
      "metadata": {
        "id": "egcYFvj5-9kv",
        "colab_type": "code",
        "outputId": "f5a28e39-cac4-4e43-83b5-2f44f6264c86",
        "colab": {
          "base_uri": "https://localhost:8080/",
          "height": 394
        }
      },
      "cell_type": "code",
      "source": [
        "plt.figure()\n",
        "episode_ma_pre = np.convolve(episode_rewards_pre, \n",
        "                         np.ones((10,))/10, mode='valid')\n",
        "plt.plot(episode_ma_pre)\n",
        "plt.xlabel('Episode')\n",
        "plt.ylabel('Rewards')\n",
        "plt.title('Episode Rewards before Training')"
      ],
      "execution_count": 0,
      "outputs": [
        {
          "output_type": "execute_result",
          "data": {
            "text/plain": [
              "Text(0.5,1,'Episode Rewards before Training')"
            ]
          },
          "metadata": {
            "tags": []
          },
          "execution_count": 20
        },
        {
          "output_type": "display_data",
          "data": {
            "image/png": "[encoded data removed]",
            "text/plain": [
              "<matplotlib.figure.Figure at 0x7f7420092390>"
            ]
          },
          "metadata": {
            "tags": []
          }
        }
      ]
    },
    {
      "metadata": {
        "id": "d9j6LHZHa0Yu",
        "colab_type": "text"
      },
      "cell_type": "markdown",
      "source": [
        "## Define the callback function\n",
        "This function is in reference to the training monitor example provided by the stable_baselines developers. https://colab.research.google.com/drive/1L_IMo6v0a0ALK8nefZm6PqPSy0vZIWBT#scrollTo=hyyN-2qyK_T2 \n",
        "\n",
        "The callback function is defined to monitor the training process. It prints stats every 1000 timesteps. "
      ]
    },
    {
      "metadata": {
        "id": "A2PQz7fHMFGf",
        "colab_type": "code",
        "colab": {}
      },
      "cell_type": "code",
      "source": [
        "best_mean_reward, n_steps = -np.inf, 0\n",
        "\n",
        "def callback(_locals, _globals):\n",
        "    \"\"\"\n",
        "    Callback called at each step\n",
        "    :param _locals: (dict)\n",
        "    :param _globals: (dict)\n",
        "    \"\"\"\n",
        "    global n_steps, best_mean_reward\n",
        "    # Print stats every 1000 calls\n",
        "    if (n_steps + 1) % 1000 == 0:\n",
        "        # Evaluate policy performance\n",
        "        x, y = ts2xy(load_results(log_dir), 'timesteps')\n",
        "        if len(x) > 0:\n",
        "            mean_reward = np.mean(y[-10:])\n",
        "            print(x[-1], 'timesteps')\n",
        "            print(\"Best mean reward: {:.2f} - Last mean reward per episode: {:.2f}\".format(best_mean_reward, mean_reward))\n",
        "            if mean_reward > best_mean_reward:\n",
        "                best_mean_reward = mean_reward\n",
        "    n_steps += 1\n",
        "    return False"
      ],
      "execution_count": 0,
      "outputs": []
    },
    {
      "metadata": {
        "id": "KOtXMpHJGcii",
        "colab_type": "code",
        "colab": {}
      },
      "cell_type": "code",
      "source": [
        "# Create log dir to save monitor.csv file\n",
        "log_dir = \"/tmp/log/Breakout/\"\n",
        "os.makedirs(log_dir, exist_ok=True)"
      ],
      "execution_count": 0,
      "outputs": []
    },
    {
      "metadata": {
        "id": "rlBUQPTcPHOH",
        "colab_type": "code",
        "outputId": "436975fb-a564-4f1d-8187-64e5c5c7cdc0",
        "colab": {
          "base_uri": "https://localhost:8080/",
          "height": 956
        }
      },
      "cell_type": "code",
      "source": [
        "# Remake and wrap the environment\n",
        "env = make_atari('BreakoutNoFrameskip-v4')\n",
        "env = Monitor(env, log_dir, allow_early_resets=True)\n",
        "# Train the model by Deep Q-networks algorithm\n",
        "t0 = time.time()\n",
        "model = DQN(CnnPolicy, env, verbose=0)\n",
        "model.learn(total_timesteps=25000, callback=callback)\n",
        "t = time.time()-t0\n",
        "print('Time used for training:{}'.format(t))"
      ],
      "execution_count": 0,
      "outputs": [
        {
          "output_type": "stream",
          "text": [
            "/usr/local/lib/python3.6/dist-packages/gym/envs/registration.py:14: PkgResourcesDeprecationWarning: Parameters to load are deprecated.  Call .resolve and .require separately.\n",
            "  result = entry_point.load(False)\n"
          ],
          "name": "stderr"
        },
        {
          "output_type": "stream",
          "text": [
            "878 timesteps\n",
            "Best mean reward: -inf - Last mean reward per episode: 0.80\n",
            "1856 timesteps\n",
            "Best mean reward: 0.80 - Last mean reward per episode: 1.22\n",
            "2817 timesteps\n",
            "Best mean reward: 1.22 - Last mean reward per episode: 1.00\n",
            "3963 timesteps\n",
            "Best mean reward: 1.22 - Last mean reward per episode: 1.10\n",
            "4618 timesteps\n",
            "Best mean reward: 1.22 - Last mean reward per episode: 1.20\n",
            "5840 timesteps\n",
            "Best mean reward: 1.22 - Last mean reward per episode: 1.40\n",
            "6851 timesteps\n",
            "Best mean reward: 1.40 - Last mean reward per episode: 1.20\n",
            "7861 timesteps\n",
            "Best mean reward: 1.40 - Last mean reward per episode: 1.50\n",
            "8633 timesteps\n",
            "Best mean reward: 1.50 - Last mean reward per episode: 1.60\n",
            "9822 timesteps\n",
            "Best mean reward: 1.60 - Last mean reward per episode: 1.40\n",
            "10646 timesteps\n",
            "Best mean reward: 1.60 - Last mean reward per episode: 1.70\n",
            "11926 timesteps\n",
            "Best mean reward: 1.70 - Last mean reward per episode: 1.40\n",
            "12887 timesteps\n",
            "Best mean reward: 1.70 - Last mean reward per episode: 1.00\n",
            "13614 timesteps\n",
            "Best mean reward: 1.70 - Last mean reward per episode: 0.30\n",
            "14735 timesteps\n",
            "Best mean reward: 1.70 - Last mean reward per episode: 1.20\n",
            "15863 timesteps\n",
            "Best mean reward: 1.70 - Last mean reward per episode: 1.60\n",
            "16577 timesteps\n",
            "Best mean reward: 1.70 - Last mean reward per episode: 1.90\n",
            "17966 timesteps\n",
            "Best mean reward: 1.90 - Last mean reward per episode: 2.00\n",
            "17966 timesteps\n",
            "Best mean reward: 2.00 - Last mean reward per episode: 2.00\n",
            "19970 timesteps\n",
            "Best mean reward: 2.00 - Last mean reward per episode: 3.80\n",
            "20477 timesteps\n",
            "Best mean reward: 3.80 - Last mean reward per episode: 3.90\n",
            "21893 timesteps\n",
            "Best mean reward: 3.90 - Last mean reward per episode: 4.80\n",
            "22857 timesteps\n",
            "Best mean reward: 4.80 - Last mean reward per episode: 3.20\n",
            "23934 timesteps\n",
            "Best mean reward: 4.80 - Last mean reward per episode: 4.40\n",
            "24840 timesteps\n",
            "Best mean reward: 4.80 - Last mean reward per episode: 4.50\n",
            "Time used for training:2021.9912741184235\n"
          ],
          "name": "stdout"
        }
      ]
    },
    {
      "metadata": {
        "id": "TRCHZ6YcZM9W",
        "colab_type": "code",
        "colab": {}
      },
      "cell_type": "code",
      "source": [
        "#model.save('deepq_breakout.h5')\n",
        "#files.download('deepq_breakout.h5')"
      ],
      "execution_count": 0,
      "outputs": []
    },
    {
      "metadata": {
        "id": "MzcOGfBKKyoC",
        "colab_type": "code",
        "colab": {}
      },
      "cell_type": "code",
      "source": [
        "#model = DQN.load('deepq_breakout.h5')"
      ],
      "execution_count": 0,
      "outputs": []
    },
    {
      "metadata": {
        "id": "ZEIXPSuDgHft",
        "colab_type": "text"
      },
      "cell_type": "markdown",
      "source": [
        "## Define functions to plot results.\n",
        "The movingAverage function to smooth values by a moving average method. The plot_results function plots the curve of timesteps versus smoothed total rewards."
      ]
    },
    {
      "metadata": {
        "id": "42k1Mjo2LPXS",
        "colab_type": "code",
        "colab": {}
      },
      "cell_type": "code",
      "source": [
        "def movingAverage(values, window):\n",
        "    \"\"\"\n",
        "    Smooth values by doing a moving average\n",
        "    :param values: (numpy array)\n",
        "    :param window: (int)\n",
        "    :return: (numpy array)\n",
        "    \"\"\"\n",
        "    weights = np.repeat(1.0, window) / window\n",
        "    return np.convolve(values, weights, 'valid')\n",
        "\n",
        "\n",
        "def plot_results(log_folder, title='Learning Curve'):\n",
        "    \"\"\"\n",
        "    plot the results\n",
        "\n",
        "    :param log_folder: (str) the save location of the results to plot\n",
        "    :param title: (str) the title of the task to plot\n",
        "    \"\"\"\n",
        "    x, y = ts2xy(load_results(log_folder), 'timesteps')\n",
        "    y = movingAverage(y, window=5)\n",
        "    # Truncate x\n",
        "    x = x[len(x) - len(y):]\n",
        "\n",
        "    fig = plt.figure(title)\n",
        "    plt.plot(x, y)\n",
        "    plt.xlabel('Number of Timesteps')\n",
        "    plt.ylabel('Rewards')\n",
        "    plt.title(title + \" Smoothed\")\n",
        "    plt.show()\n"
      ],
      "execution_count": 0,
      "outputs": []
    },
    {
      "metadata": {
        "id": "bHi88i2PLaux",
        "colab_type": "code",
        "outputId": "2178816d-2d9f-4f72-e4ea-822a5796b884",
        "colab": {
          "base_uri": "https://localhost:8080/",
          "height": 377
        }
      },
      "cell_type": "code",
      "source": [
        "plot_results(log_dir)"
      ],
      "execution_count": 0,
      "outputs": [
        {
          "output_type": "display_data",
          "data": {
            "image/png": "[encoded data removed]",
            "text/plain": [
              "<matplotlib.figure.Figure at 0x7f74083df860>"
            ]
          },
          "metadata": {
            "tags": []
          }
        }
      ]
    },
    {
      "metadata": {
        "id": "bc2PSiGK8-yu",
        "colab_type": "text"
      },
      "cell_type": "markdown",
      "source": [
        "## Test the trained model in 1000 episodes\n",
        "Collect rewards for every episode"
      ]
    },
    {
      "metadata": {
        "id": "zRpNcIm1Pdql",
        "colab_type": "code",
        "outputId": "9874d1e4-dab2-43dc-adb3-70fe4ef330d0",
        "colab": {
          "base_uri": "https://localhost:8080/",
          "height": 3484
        }
      },
      "cell_type": "code",
      "source": [
        "episode_rewards = []\n",
        "for episode in range(1000):\n",
        "    R = 0\n",
        "    #print('episode :{}'.format(episode))\n",
        "    obs = env.reset()\n",
        "    for t in range(1000):\n",
        "        action, _states = model.predict(obs)\n",
        "        obs, reward, done, info = env.step(action)\n",
        "        R += reward\n",
        "        if done or t == 999:\n",
        "            episode_rewards.append(R)\n",
        "            if episode % 10 == 0:\n",
        "              print('episode :{}'.format(episode))\n",
        "              print(\"Rolling Episode Rewards: {}\".format(np.mean(episode_rewards[-10:])))  \n",
        "            break"
      ],
      "execution_count": 0,
      "outputs": [
        {
          "output_type": "stream",
          "text": [
            "episode :0\n",
            "Rolling Episode Rewards: 2.0\n",
            "episode :10\n",
            "Rolling Episode Rewards: 5.2\n",
            "episode :20\n",
            "Rolling Episode Rewards: 4.4\n",
            "episode :30\n",
            "Rolling Episode Rewards: 4.8\n",
            "episode :40\n",
            "Rolling Episode Rewards: 5.4\n",
            "episode :50\n",
            "Rolling Episode Rewards: 4.2\n",
            "episode :60\n",
            "Rolling Episode Rewards: 3.6\n",
            "episode :70\n",
            "Rolling Episode Rewards: 5.0\n",
            "episode :80\n",
            "Rolling Episode Rewards: 3.8\n",
            "episode :90\n",
            "Rolling Episode Rewards: 4.2\n",
            "episode :100\n",
            "Rolling Episode Rewards: 4.8\n",
            "episode :110\n",
            "Rolling Episode Rewards: 3.8\n",
            "episode :120\n",
            "Rolling Episode Rewards: 6.0\n",
            "episode :130\n",
            "Rolling Episode Rewards: 4.8\n",
            "episode :140\n",
            "Rolling Episode Rewards: 3.2\n",
            "episode :150\n",
            "Rolling Episode Rewards: 4.6\n",
            "episode :160\n",
            "Rolling Episode Rewards: 5.8\n",
            "episode :170\n",
            "Rolling Episode Rewards: 4.6\n",
            "episode :180\n",
            "Rolling Episode Rewards: 4.4\n",
            "episode :190\n",
            "Rolling Episode Rewards: 4.0\n",
            "episode :200\n",
            "Rolling Episode Rewards: 4.2\n",
            "episode :210\n",
            "Rolling Episode Rewards: 4.2\n",
            "episode :220\n",
            "Rolling Episode Rewards: 5.2\n",
            "episode :230\n",
            "Rolling Episode Rewards: 6.0\n",
            "episode :240\n",
            "Rolling Episode Rewards: 5.0\n",
            "episode :250\n",
            "Rolling Episode Rewards: 4.4\n",
            "episode :260\n",
            "Rolling Episode Rewards: 3.6\n",
            "episode :270\n",
            "Rolling Episode Rewards: 5.4\n",
            "episode :280\n",
            "Rolling Episode Rewards: 4.2\n",
            "episode :290\n",
            "Rolling Episode Rewards: 6.0\n",
            "episode :300\n",
            "Rolling Episode Rewards: 3.4\n",
            "episode :310\n",
            "Rolling Episode Rewards: 3.8\n",
            "episode :320\n",
            "Rolling Episode Rewards: 5.2\n",
            "episode :330\n",
            "Rolling Episode Rewards: 5.4\n",
            "episode :340\n",
            "Rolling Episode Rewards: 4.4\n",
            "episode :350\n",
            "Rolling Episode Rewards: 4.2\n",
            "episode :360\n",
            "Rolling Episode Rewards: 4.8\n",
            "episode :370\n",
            "Rolling Episode Rewards: 5.2\n",
            "episode :380\n",
            "Rolling Episode Rewards: 3.8\n",
            "episode :390\n",
            "Rolling Episode Rewards: 4.2\n",
            "episode :400\n",
            "Rolling Episode Rewards: 4.6\n",
            "episode :410\n",
            "Rolling Episode Rewards: 3.8\n",
            "episode :420\n",
            "Rolling Episode Rewards: 5.2\n",
            "episode :430\n",
            "Rolling Episode Rewards: 3.8\n",
            "episode :440\n",
            "Rolling Episode Rewards: 4.6\n",
            "episode :450\n",
            "Rolling Episode Rewards: 3.8\n",
            "episode :460\n",
            "Rolling Episode Rewards: 3.4\n",
            "episode :470\n",
            "Rolling Episode Rewards: 5.4\n",
            "episode :480\n",
            "Rolling Episode Rewards: 4.4\n",
            "episode :490\n",
            "Rolling Episode Rewards: 4.4\n",
            "episode :500\n",
            "Rolling Episode Rewards: 4.6\n",
            "episode :510\n",
            "Rolling Episode Rewards: 4.6\n",
            "episode :520\n",
            "Rolling Episode Rewards: 4.4\n",
            "episode :530\n",
            "Rolling Episode Rewards: 4.6\n",
            "episode :540\n",
            "Rolling Episode Rewards: 4.4\n",
            "episode :550\n",
            "Rolling Episode Rewards: 5.2\n",
            "episode :560\n",
            "Rolling Episode Rewards: 4.6\n",
            "episode :570\n",
            "Rolling Episode Rewards: 4.2\n",
            "episode :580\n",
            "Rolling Episode Rewards: 5.4\n",
            "episode :590\n",
            "Rolling Episode Rewards: 4.0\n",
            "episode :600\n",
            "Rolling Episode Rewards: 3.4\n",
            "episode :610\n",
            "Rolling Episode Rewards: 4.4\n",
            "episode :620\n",
            "Rolling Episode Rewards: 4.8\n",
            "episode :630\n",
            "Rolling Episode Rewards: 4.8\n",
            "episode :640\n",
            "Rolling Episode Rewards: 3.8\n",
            "episode :650\n",
            "Rolling Episode Rewards: 3.6\n",
            "episode :660\n",
            "Rolling Episode Rewards: 5.0\n",
            "episode :670\n",
            "Rolling Episode Rewards: 3.4\n",
            "episode :680\n",
            "Rolling Episode Rewards: 3.6\n",
            "episode :690\n",
            "Rolling Episode Rewards: 4.6\n",
            "episode :700\n",
            "Rolling Episode Rewards: 4.6\n",
            "episode :710\n",
            "Rolling Episode Rewards: 3.6\n",
            "episode :720\n",
            "Rolling Episode Rewards: 4.8\n",
            "episode :730\n",
            "Rolling Episode Rewards: 4.6\n",
            "episode :740\n",
            "Rolling Episode Rewards: 4.0\n",
            "episode :750\n",
            "Rolling Episode Rewards: 4.0\n",
            "episode :760\n",
            "Rolling Episode Rewards: 4.2\n",
            "episode :770\n",
            "Rolling Episode Rewards: 3.6\n",
            "episode :780\n",
            "Rolling Episode Rewards: 3.8\n",
            "episode :790\n",
            "Rolling Episode Rewards: 5.4\n",
            "episode :800\n",
            "Rolling Episode Rewards: 3.8\n",
            "episode :810\n",
            "Rolling Episode Rewards: 5.6\n",
            "episode :820\n",
            "Rolling Episode Rewards: 5.0\n",
            "episode :830\n",
            "Rolling Episode Rewards: 3.4\n",
            "episode :840\n",
            "Rolling Episode Rewards: 5.6\n",
            "episode :850\n",
            "Rolling Episode Rewards: 4.4\n",
            "episode :860\n",
            "Rolling Episode Rewards: 4.8\n",
            "episode :870\n",
            "Rolling Episode Rewards: 4.6\n",
            "episode :880\n",
            "Rolling Episode Rewards: 4.6\n",
            "episode :890\n",
            "Rolling Episode Rewards: 4.6\n",
            "episode :900\n",
            "Rolling Episode Rewards: 3.8\n",
            "episode :910\n",
            "Rolling Episode Rewards: 3.0\n",
            "episode :920\n",
            "Rolling Episode Rewards: 3.2\n",
            "episode :930\n",
            "Rolling Episode Rewards: 3.8\n",
            "episode :940\n",
            "Rolling Episode Rewards: 5.2\n",
            "episode :950\n",
            "Rolling Episode Rewards: 5.2\n",
            "episode :960\n",
            "Rolling Episode Rewards: 3.4\n",
            "episode :970\n",
            "Rolling Episode Rewards: 4.2\n",
            "episode :980\n",
            "Rolling Episode Rewards: 5.6\n",
            "episode :990\n",
            "Rolling Episode Rewards: 5.0\n"
          ],
          "name": "stdout"
        }
      ]
    },
    {
      "metadata": {
        "id": "qzwGdZre9O67",
        "colab_type": "text"
      },
      "cell_type": "markdown",
      "source": [
        "Plot smoothed episode rewards"
      ]
    },
    {
      "metadata": {
        "id": "EB_1ijrqwiU2",
        "colab_type": "code",
        "outputId": "5224a9c5-f39f-43dd-df3d-ebe75d46583f",
        "colab": {
          "base_uri": "https://localhost:8080/",
          "height": 394
        }
      },
      "cell_type": "code",
      "source": [
        "plt.figure()\n",
        "episode_ma = np.convolve(episode_rewards, \n",
        "                         np.ones((10,))/10, mode='valid')\n",
        "plt.plot(episode_ma)\n",
        "plt.xlabel('Episode')\n",
        "plt.ylabel('Rewards')\n",
        "plt.title('Episode Rewards after Training')"
      ],
      "execution_count": 0,
      "outputs": [
        {
          "output_type": "execute_result",
          "data": {
            "text/plain": [
              "Text(0.5,1,'Episode Rewards after Training')"
            ]
          },
          "metadata": {
            "tags": []
          },
          "execution_count": 38
        },
        {
          "output_type": "display_data",
          "data": {
            "image/png": "[encoded data removed]",
            "text/plain": [
              "<matplotlib.figure.Figure at 0x7f74080690f0>"
            ]
          },
          "metadata": {
            "tags": []
          }
        }
      ]
    },
    {
      "metadata": {
        "id": "Js32cgKT5AEu",
        "colab_type": "code",
        "colab": {}
      },
      "cell_type": "code",
      "source": [
        ""
      ],
      "execution_count": 0,
      "outputs": []
    }
  ]
}